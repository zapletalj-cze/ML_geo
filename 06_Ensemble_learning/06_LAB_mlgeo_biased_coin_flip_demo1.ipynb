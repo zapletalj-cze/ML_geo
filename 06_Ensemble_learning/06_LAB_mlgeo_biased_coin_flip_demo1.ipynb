{
 "cells": [
  {
   "cell_type": "markdown",
   "id": "c5b19d5d",
   "metadata": {},
   "source": [
    "# Biased Coin Flip"
   ]
  },
  {
   "cell_type": "code",
   "execution_count": null,
   "id": "4b4706fc",
   "metadata": {},
   "outputs": [],
   "source": [
    "import numpy as np\n",
    "import matplotlib.pyplot as plt\n",
    "np.random.seed(1)"
   ]
  },
  {
   "cell_type": "code",
   "execution_count": null,
   "id": "be4eb903",
   "metadata": {},
   "outputs": [],
   "source": [
    "def biased_coin_flip(prob_heads=0.51, num_tosses=1000, num_runs=1):\n",
    "    for _ in range(num_runs):\n",
    "        # Simulate coin flips (1 for heads, 0 for tails)\n",
    "        flips = np.random.choice([1, 0], size=num_tosses, p=[prob_heads, 1 - prob_heads])\n",
    "        \n",
    "        # Compute cumulative heads ratio\n",
    "        cumulative_heads_ratio = np.cumsum(flips) / np.arange(1, num_tosses + 1)\n",
    "        \n",
    "        # Plot the results\n",
    "        plt.plot(np.arange(1, num_tosses + 1), cumulative_heads_ratio, label=f'Tossed')\n",
    "    \n",
    "    plt.axhline(y=prob_heads, color='red', linestyle='--', label=f'Expected Ratio ({prob_heads})')\n",
    "    plt.axhline(y=0.5, color='grey', linestyle='-', label='Unbiased Coin (0.5)')\n",
    "    plt.axhline(cumulative_heads_ratio[-1], color='g', linestyle='--', \n",
    "                label=f'Average: {round(cumulative_heads_ratio[-1], 2)}')\n",
    "    plt.xlabel('Number of Tosses')\n",
    "    plt.ylabel('Heads Ratio')\n",
    "    # plt.ylim(0.3, 0.7)\n",
    "    plt.title('Convergence of Biased Coin Flip')\n",
    "    plt.legend()\n",
    "    plt.grid()\n",
    "    plt.show()"
   ]
  },
  {
   "cell_type": "code",
   "execution_count": null,
   "id": "0157025e",
   "metadata": {},
   "outputs": [],
   "source": [
    "# Run the simulation\n",
    "biased_coin_flip(prob_heads=0.52, num_tosses=10000, num_runs=3)"
   ]
  }
 ],
 "metadata": {
  "kernelspec": {
   "display_name": "Python 3 (ipykernel)",
   "language": "python",
   "name": "python3"
  },
  "language_info": {
   "codemirror_mode": {
    "name": "ipython",
    "version": 3
   },
   "file_extension": ".py",
   "mimetype": "text/x-python",
   "name": "python",
   "nbconvert_exporter": "python",
   "pygments_lexer": "ipython3",
   "version": "3.9.10"
  }
 },
 "nbformat": 4,
 "nbformat_minor": 5
}
