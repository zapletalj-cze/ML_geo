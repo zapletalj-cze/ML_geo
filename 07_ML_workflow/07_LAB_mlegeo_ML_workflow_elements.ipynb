{
 "cells": [
  {
   "cell_type": "markdown",
   "id": "a42adb3a",
   "metadata": {},
   "source": [
    "# ___\n",
    "\n",
    "# [ Machine Learning in Geosciences ]\n",
    "\n",
    "**Department of Applied Geoinformatics and Carthography, Charles University** \n",
    "\n",
    "*Lukas Brodsky lukas.brodsky@natur.cuni.cz*\n",
    "\n",
    "    \n",
    "___\n"
   ]
  },
  {
   "cell_type": "markdown",
   "id": "1a571f7d",
   "metadata": {},
   "source": [
    "## End-to-End Machine Learning Project Workflow  Elements\n",
    "\n",
    "This notebook demonstrates the elements of the ML workflow by Python code snippets. These snippets are mosly independent each other using different datasets. The goal is to illustrate examples in the workflow. \n",
    "\n",
    "1. Task description \n",
    "2. Exploratory Data Analysis (EDA) \n",
    "3. Data preparation \n",
    "4. Select and train model \n",
    "5. Model fine-tuning \n",
    "6. Results interpretation\n"
   ]
  },
  {
   "cell_type": "code",
   "execution_count": null,
   "id": "1d15c36c",
   "metadata": {},
   "outputs": [],
   "source": [
    "import pandas as pd\n",
    "import numpy as np \n",
    "import seaborn as sns\n",
    "\n",
    "from sklearn.metrics import mean_absolute_error, mean_squared_error\n",
    "from sklearn.metrics import accuracy_score, roc_auc_score, precision_score, recall_score, f1_score\n",
    "from sklearn.metrics import roc_curve, auc\n",
    "from sklearn.metrics import classification_report, confusion_matrix, balanced_accuracy_score\n",
    "from sklearn.model_selection import GridSearchCV \n",
    "from sklearn.model_selection import RandomizedSearchCV\n",
    "from sklearn.model_selection import cross_val_score\n",
    "from sklearn.model_selection import RepeatedStratifiedKFold\n",
    "from sklearn.model_selection import KFold, StratifiedKFold, cross_val_score\n",
    "from scipy.stats import randint\n",
    "from collections import Counter\n",
    "\n",
    "from sklearn.model_selection import train_test_split\n",
    "from sklearn.preprocessing import StandardScaler\n",
    "\n",
    "from sklearn.linear_model import LogisticRegression\n",
    "from sklearn.neighbors import KNeighborsClassifier\n",
    "from sklearn.ensemble import RandomForestClassifier\n",
    "from sklearn.tree import DecisionTreeClassifier \n",
    "from sklearn.utils import resample\n",
    "from imblearn.pipeline import Pipeline\n",
    "from imblearn.over_sampling import SMOTE\n",
    "from imblearn.under_sampling import RandomUnderSampler\n",
    "from sklearn.utils import shuffle\n",
    "\n",
    "\n",
    "# data \n",
    "from sklearn.datasets import load_iris\n",
    "from sklearn.datasets import make_classification\n",
    "\n",
    "import geopandas as gpd\n",
    "\n",
    "import matplotlib.pyplot as plt \n",
    "# %matplotlib inline\n",
    "import contextily as cx"
   ]
  },
  {
   "cell_type": "markdown",
   "id": "8bdafe2c",
   "metadata": {},
   "source": [
    "## 1.1. Task description"
   ]
  },
  {
   "cell_type": "markdown",
   "id": "92950320",
   "metadata": {},
   "source": [
    "### 1.1. Task description example - Frame the problem \n",
    "\n",
    "Objective: Demonstrate ML project workflow elemets as a systematic approach to model development & evaluation \n",
    "\n",
    "Data: Simulated\n",
    "\n",
    "Constraints: Each element is presented independently others, so the workflow is not linked!. \n",
    "\n",
    "Performance Measure: exploring many of them\n"
   ]
  },
  {
   "cell_type": "markdown",
   "id": "2c620ca3",
   "metadata": {},
   "source": [
    "## 1.2. Select the performance measures"
   ]
  },
  {
   "cell_type": "markdown",
   "id": "70c245a0",
   "metadata": {},
   "source": [
    "### Problem: regression -> MAE or MSE? \n",
    "\n",
    "Key Differences\n",
    "\n",
    "- **MAE (Mean Absolute Error)**: Measures the average absolute difference between predicted and actual values. It **treats all errors equally**.\n",
    "\n",
    "- **MSE (Mean Squared Error)**: **Squares the errors before averaging**, which **penalizes large errors** more than small ones.\n",
    "\n",
    "When to Use MAE Instead of MSE? "
   ]
  },
  {
   "cell_type": "markdown",
   "id": "557baaf8",
   "metadata": {},
   "source": [
    "**Mean Absolute Error (MAE)**\n",
    "\n",
    "$$\n",
    "\\text{MAE} = \\frac{1}{n} \\sum_{i=1}^{n} |y_i - \\hat{y}_i|\n",
    "$$\n",
    "**Description:**\n",
    "- Measures the average absolute difference between predicted and actual values.\n",
    "- **Less sensitive to outliers than MSE**.\n",
    "\n",
    "**Variables:**\n",
    "- **n** = Number of samples\n",
    "- **y_i** = Actual value\n",
    "- **\\hat{y}_i** = Predicted value\n",
    "\n",
    "---\n",
    "\n",
    "**Mean Squared Error (MSE)**\n",
    "$$\n",
    "\\text{MSE} = \\frac{1}{n} \\sum_{i=1}^{n} (y_i - \\hat{y}_i)^2\n",
    "$$\n",
    "**Description:**\n",
    "- Squares the errors, giving more weight to large errors.\n",
    "- **More sensitive to outliers than MAE**.\n"
   ]
  },
  {
   "cell_type": "code",
   "execution_count": null,
   "id": "835997fc",
   "metadata": {},
   "outputs": [],
   "source": [
    "# Data: \n",
    "\n",
    "# Simulated true values \n",
    "y_true = np.array([200, 250, 300, 350, 400, 450, 500])\n",
    "\n",
    "# Two different models with different errors\n",
    "y_pred_good = np.array([210, 260, 290, 340, 410, 460, 490])  # Small errors\n",
    "y_pred_bad = np.array([150, 300, 500, 700, 200, 600, 800])   # Large errors (outliers)"
   ]
  },
  {
   "cell_type": "code",
   "execution_count": null,
   "id": "351d7f45",
   "metadata": {},
   "outputs": [],
   "source": [
    "# Compute MAE and MSE\n",
    "mae_good = mean_absolute_error(y_true, y_pred_good)\n",
    "mse_good = mean_squared_error(y_true, y_pred_good)\n",
    "\n",
    "mae_bad = mean_absolute_error(y_true, y_pred_bad)\n",
    "mse_bad = mean_squared_error(y_true, y_pred_bad)"
   ]
  },
  {
   "cell_type": "code",
   "execution_count": null,
   "id": "6bb5d0d7",
   "metadata": {},
   "outputs": [],
   "source": [
    "# Print the results\n",
    "print(f\"Good Model:  MAE = {mae_good:.2f}, MSE = {mse_good:.2f}\")\n",
    "print(f\"Bad Model:   MAE = {mae_bad:.2f}, MSE = {mse_bad:.2f}\")"
   ]
  },
  {
   "cell_type": "code",
   "execution_count": null,
   "id": "25da1dfe",
   "metadata": {},
   "outputs": [],
   "source": [
    "# Visualizing the Errors\n",
    "plt.figure(figsize=(8, 5))\n",
    "plt.plot(y_true, y_true, \"go-\", label=\"True Values\")  # Perfect fit\n",
    "plt.plot(y_true, y_pred_good, \"bo-\", label=\"Good Model Predictions\")\n",
    "plt.plot(y_true, y_pred_bad, \"ro-\", label=\"Bad Model Predictions\")\n",
    "plt.legend()\n",
    "plt.xlabel(\"True values\")\n",
    "plt.ylabel(\"Predicted values\")\n",
    "plt.title(\"Comparison of Predictions\")\n",
    "plt.show()"
   ]
  },
  {
   "cell_type": "markdown",
   "id": "aebffdd8",
   "metadata": {},
   "source": [
    "####  Explanation: \n",
    "\n",
    "For the good model: MAE and MSE are both small.\n",
    "\n",
    "For the bad model:\n",
    "- MAE provides a stable measure of error.\n",
    "- MSE is much higher because it heavily penalizes large errors due to squaring.\n",
    "\n",
    "MAE or MSE?\n",
    "- Use MAE when you want a metric that is robust to outliers.\n",
    "- Use MSE when you want to heavily penalize large errors."
   ]
  },
  {
   "cell_type": "markdown",
   "id": "9c2f407f",
   "metadata": {},
   "source": [
    "-----------"
   ]
  },
  {
   "cell_type": "markdown",
   "id": "43f30a66",
   "metadata": {},
   "source": [
    "### Classification problem \n",
    "\n",
    "<div>\n",
    "    <img src=\"attachment:image.png\" width=\"300\"/>\n",
    "</div>\n",
    "\n"
   ]
  },
  {
   "cell_type": "markdown",
   "id": "fd91b58f",
   "metadata": {},
   "source": [
    "### Overall accuracy or F1-score? \n",
    "\n",
    "Key Differences\n",
    "\n",
    "- **Overall Accuracy (OA)**: Measures the **percentage of correct predictions** but can be misleading when data is imbalanced.\n",
    "\n",
    "- **F1-score**: The **harmonic mean of Precision and Recall**, useful when class imbalance exists.\n"
   ]
  },
  {
   "cell_type": "markdown",
   "id": "12fb1fce",
   "metadata": {},
   "source": [
    "**The metrics:**\n",
    "\n",
    "lassification and Regression Metrics\n",
    "\n",
    "**Accuracy (Overall Accuracy - OA)** \n",
    "\n",
    "$$\n",
    "\\text{Accuracy} = \\frac{TP + TN}{TP + TN + FP + FN}\n",
    "$$\n",
    "\n",
    "**Description:**\n",
    "- Measures the proportion of correctly classified instances.\n",
    "- **Best for balanced datasets** but can be misleading for imbalanced data.\n",
    "\n",
    "**Variables:**\n",
    "- **TP** = True Positives (Correctly classified positive cases)\n",
    "- **TN** = True Negatives (Correctly classified negative cases)\n",
    "- **FP** = False Positives (Incorrectly classified negative as positive)\n",
    "- **FN** = False Negatives (Incorrectly classified positive as negative)\n",
    "\n",
    "---\n",
    "\n",
    "**Precision (Positive Predictive Value)** \n",
    "$$\n",
    "\\text{Precision} = \\frac{TP}{TP + FP}\n",
    "$$\n",
    "\n",
    "**Description:**\n",
    "- Measures how many predicted positive cases were actually positive.\n",
    "- **Useful when false positives should be minimized** (e.g., anomaly, change detection).\n",
    "\n",
    "---\n",
    "\n",
    "**Recall (Sensitivity or True Positive Rate)** \n",
    "$$\n",
    "\\text{Recall} = \\frac{TP}{TP + FN}\n",
    "$$\n",
    "**Description:**\n",
    "- Measures how many actual positive cases were correctly identified.\n",
    "- **Useful when false negatives should be minimized** (e.g., medical diagnoses).\n",
    "\n",
    "---\n",
    "\n",
    "**F1-score (Harmonic Mean of Precision and Recall)**\n",
    "\n",
    "The harmonic mean is a type of average that is particularly useful when dealing with rates or ratios. In the context of the F1 score, it is used to balance Precision and Recall.\n",
    "\n",
    "$$\n",
    "\\text{F1-score} = 2 \\times \\frac{\\text{Precision} \\times \\text{Recall}}{\\text{Precision} + \\text{Recall}}\n",
    "$$\n",
    "\n",
    "The harmonic mean ensures that the F1 score is low when either Precision or Recall is low—meaning that it only gives a high score when both metrics are high.\n",
    "\n",
    "**Description:**\n",
    "- **Balances Precision and Recall**, useful for imbalanced datasets.\n",
    "- **Prevents Overemphasis on Extreme Values**\n",
    "- A **high F1-score** indicates both good Precision and Recall."
   ]
  },
  {
   "cell_type": "markdown",
   "id": "b36b9f81",
   "metadata": {},
   "source": [
    "Case 1: One value is very small, the other is large. Suppose P=1.0 and R=0.1. \n",
    "    \n",
    "    Aritmetic mean = 0.55 \n",
    "    Harmonic mean = 0.1818\n",
    "\n",
    "Case 2: Both values are equal. Suppose P=R=0.8.\n",
    "    \n",
    "    Aritmetic mean = 0.8 \n",
    "    Harmonic mean = 0.8\n",
    "\n",
    "Case 3: One value is zero. Suppose P=1.0 and R=0.0.\n",
    "    \n",
    "    Aritmetic mean = 0.5 \n",
    "    Harmonic mean = 0.0"
   ]
  },
  {
   "cell_type": "code",
   "execution_count": null,
   "id": "58f843fb",
   "metadata": {},
   "outputs": [],
   "source": [
    "# Simulate an imbalanced dataset (95% non-fraud, 5% fraud)\n",
    "np.random.seed(42)\n",
    "n_samples = 1000\n",
    "\n",
    "# 95% Class 0 (Non-change) and 5% Class 1 (Anomaly)\n",
    "y = np.concatenate([np.zeros(int(n_samples * 0.95)), np.ones(int(n_samples * 0.05))])\n",
    "X = np.random.randn(n_samples, 5)  # Random features\n",
    "\n",
    "# Train-test split\n",
    "X_train, X_test, y_train, y_test = train_test_split(X, y, test_size=0.2, stratify=y, random_state=42)"
   ]
  },
  {
   "cell_type": "code",
   "execution_count": null,
   "id": "1de6a53f",
   "metadata": {},
   "outputs": [],
   "source": [
    "# Train a simple classifier\n",
    "clf = RandomForestClassifier(random_state=42)\n",
    "clf.fit(X_train, y_train)\n",
    "\n",
    "# Predictions\n",
    "y_pred = clf.predict(X_test)"
   ]
  },
  {
   "cell_type": "code",
   "execution_count": null,
   "id": "d9f46fa5",
   "metadata": {},
   "outputs": [],
   "source": [
    "# Compute Metrics\n",
    "accuracy = accuracy_score(y_test, y_pred)\n",
    "precision = precision_score(y_test, y_pred, zero_division=0)\n",
    "recall = recall_score(y_test, y_pred)\n",
    "f1 = f1_score(y_test, y_pred)"
   ]
  },
  {
   "cell_type": "code",
   "execution_count": null,
   "id": "c7eaedae",
   "metadata": {},
   "outputs": [],
   "source": [
    "# Print results\n",
    "print(f\"Overall Accuracy: {accuracy:.2f}\")\n",
    "print(f\"Precision: {precision:.2f}\")\n",
    "print(f\"Recall: {recall:.2f}\")\n",
    "print(f\"F1-score: {f1:.2f}\")"
   ]
  },
  {
   "cell_type": "code",
   "execution_count": null,
   "id": "2ccbca3d",
   "metadata": {},
   "outputs": [],
   "source": [
    "# Visualizing Class Distribution\n",
    "plt.figure(figsize=(6, 4))\n",
    "plt.bar([\"No-change (Class 0)\", \"Anomaly (Class 1)\"], [np.sum(y == 0), np.sum(y == 1)], color=['blue', 'red'])\n",
    "plt.title(\"Imbalanced Dataset Distribution\")\n",
    "plt.ylabel(\"Number of Samples\")\n",
    "plt.show()"
   ]
  },
  {
   "cell_type": "markdown",
   "id": "9f4722bd",
   "metadata": {},
   "source": [
    "#### Explanation: \n",
    "\n",
    "- Overall Accuracy is high (~95%) but misleading—this is because the model can always predict \"Non-change\" and still achieve 95% accuracy!\n",
    "\n",
    "- F1-score is ZERO, reflecting the fact that the model fails to detect the anomaly (high recall is needed).\n",
    "\n",
    "\n",
    "When to Use F1-score Instead of OA? \n",
    "\n",
    "- Use OA when classes are balanced (e.g., 50-50 split).\n",
    "- Use F1-score when one class is much rarer than the other to ensure both Precision & Recall are optimized.\n",
    "\n",
    "*Note: see later the use of SMOTE!* "
   ]
  },
  {
   "cell_type": "markdown",
   "id": "46a75d6f",
   "metadata": {},
   "source": [
    "### Micro, Macro, and Weighted Averages in Classification Metrics\n",
    "\n",
    "These methods come into play when dealing with **multi-class or imbalanced datasets**.\n",
    "\n",
    "When to use which?\n",
    "\n",
    "\n",
    "#### **1. Micro Average**\n",
    "The **Micro Average** **aggregates the contributions of all classes** to compute the **global** precision, recall, and F1-score.\n",
    "\n",
    "#### **Formulation:**\n",
    "$$\n",
    "\\text{Precision}_{\\text{micro}} = \\text{Recall}_{\\text{micro}} = \\frac{\\sum_{i=1}^{N} TP_i}{\\sum_{i=1}^{N} (TP_i + Fx_i)}\n",
    "$$\n",
    "\n",
    "$$\n",
    "\\text{F1-score}_{\\text{micro}} = \\frac{2 \\times \\sum_{i=1}^{N} TP_i}{2 \\times \\sum_{i=1}^{N} TP_i + \\sum_{i=1}^{N} FP_i + \\sum_{i=1}^{N} FN_i}\n",
    "$$\n",
    "\n",
    "Where:\n",
    "- \\( TP_i \\) = True Positives for class \\( i \\)\n",
    "- \\( FP_i \\) = False Positives for class \\( i \\)\n",
    "- \\( FN_i \\) = False Negatives for class \\( i \\)\n",
    "- \\( N \\) = Number of classes\n",
    "\n",
    "---\n",
    "\n",
    "#### **2. Macro Average**\n",
    "The **Macro Average** computes the metric **independently for each class** and then takes the average.\n",
    "\n",
    "#### **Formulation:**\n",
    "$$\n",
    "\\text{Precision}_{\\text{macro}} = \\frac{1}{N} \\sum_{i=1}^{N} \\text{Precision}_i\n",
    "$$\n",
    "\n",
    "$$\n",
    "\\text{Recall}_{\\text{macro}} = \\frac{1}{N} \\sum_{i=1}^{N} \\text{Recall}_i\n",
    "$$\n",
    "\n",
    "$$\n",
    "\\text{F1-score}_{\\text{macro}} = \\frac{1}{N} \\sum_{i=1}^{N} \\text{F1-score}_i\n",
    "$$\n",
    "\n",
    "Where:\n",
    "$$\n",
    "\\text{F1-score}_i = \\frac{2 \\times \\text{Precision}_i \\times \\text{Recall}_i}{\\text{Precision}_i + \\text{Recall}_i}\n",
    "$$\n",
    "\n",
    "---\n",
    "\n",
    "#### **3. Weighted Average**\n",
    "The **Weighted Average** **considers the number of instances** in each class when computing the average.\n",
    "\n",
    "#### **Formulation:**\n",
    "$$\n",
    "\\text{Precision}_{\\text{weighted}} = \\sum_{i=1}^{N} w_i \\times \\text{Precision}_i\n",
    "$$\n",
    "\n",
    "$$\n",
    "\\text{Recall}_{\\text{weighted}} = \\sum_{i=1}^{N} w_i \\times \\text{Recall}_i\n",
    "$$\n",
    "\n",
    "$$\n",
    "\\text{F1-score}_{\\text{weighted}} = \\sum_{i=1}^{N} w_i \\times \\text{F1-score}_i\n",
    "$$\n",
    "\n",
    "Where the weight \\( w_i \\) is defined as:\n",
    "$$\n",
    " w_i = \\frac{TP_i + FN_i}{\\sum_{j=1}^{N} (TP_j + FN_j)}\n",
    "$$\n",
    "\n",
    "This ensures that the contribution of each class is proportional to its actual frequency in the dataset.\n",
    "\n",
    "---\n",
    "\n",
    "### **Explanation**\n",
    "- **Micro Average** is useful when there is **class imbalance** and focuses on **overall performance**.\n",
    "- **Macro Average** treats all **classes equally**, regardless of their frequency.\n",
    "- **Weighted Average** accounts for class imbalance by giving more **importance to frequent classes**.\n"
   ]
  },
  {
   "cell_type": "markdown",
   "id": "bb1b3dec",
   "metadata": {},
   "source": [
    "-------"
   ]
  },
  {
   "cell_type": "markdown",
   "id": "aab3ad32",
   "metadata": {},
   "source": [
    "### Area Under the Receiver Operating Characteristic Curve (ROC-AUC) \n",
    "\n",
    "The AUC-ROC curve is an essential tool used for evaluating the performance of binary classification models. It plots the **True Positive Rate (TPR) against the False Positive Rate (FPR) at different thresholds** showing how well a model can distinguish between two classes such as positive and negative outcomes.\n",
    "\n",
    "It provides a graphical representation of the model’s ability to distinguish between two classes like **positive class for presence of a disease** and **negative class for absence of a disease**.\n",
    "\n",
    "\n",
    "The AUC is calculated as the area under the ROC curve, which is constructed by plotting the True Positive Rate (TPR) vs. False Positive Rate (FPR) at different thresholds: \n",
    "$$\n",
    "AUC = \\sum_{i=1}^{n-1} (FPR_{i+1} - FPR_i) \\times \\frac{TPR_{i+1} + TPR_i}{2}\n",
    "$$\n",
    "\n",
    "where:\n",
    "\n",
    "\n",
    "**Terms**\n",
    "\n",
    "- **TPR (True Positive Rate)**: The ratio of correctly predicted positive instances.\n",
    "- **FPR (False Positive Rate)**: The ratio of incorrectly predicted negative instances.\n",
    "\n",
    "$$\\frac{FP}{FP + TN}$$\n",
    "\n",
    "**Explanation:**\n",
    "- Measures how well the model separates positive and negative classes.\n",
    "- **Higher AUC = Better classification performance**.\n",
    "- ROC Curve: ROC Curve plots TPR vs. FPR at different thresholds. **It represents the trade-off between the sensitivity and specificity** of a classifier.\n",
    "- AUC (Area Under the Curve): An AUC value of 1.0 indicates perfect performance while 0.5 suggests it is random guessing.\n",
    "- AUC-ROC is effective when the dataset is balanced and the model **needs to be evaluated across all thresholds**."
   ]
  },
  {
   "attachments": {
    "image.png": {
     "image/png": "[encoded data removed]"
    }
   },
   "cell_type": "markdown",
   "id": "d5931c3f",
   "metadata": {},
   "source": [
    "![image.png](attachment:image.png)"
   ]
  },
  {
   "cell_type": "code",
   "execution_count": null,
   "id": "bec97ccf",
   "metadata": {},
   "outputs": [],
   "source": [
    "# Case of imbalanced dataset (95% non-change, 5% anomaly)\n",
    "np.random.seed(42)\n",
    "n_samples = 1000\n",
    "\n",
    "X = np.random.randn(n_samples, 5)  # 5 random features\n",
    "y = np.concatenate([np.zeros(int(n_samples * 0.95)), np.ones(int(n_samples * 0.05))])\n",
    "\n",
    "# Train-test split\n",
    "X_train, X_test, y_train, y_test = train_test_split(X, y, test_size=0.2, stratify=y, random_state=42)"
   ]
  },
  {
   "cell_type": "code",
   "execution_count": null,
   "id": "00eac1f9",
   "metadata": {},
   "outputs": [],
   "source": [
    "# Train a simple classifier\n",
    "clf = RandomForestClassifier(random_state=42)\n",
    "clf.fit(X_train, y_train)\n",
    "# Predictions\n",
    "y_pred = clf.predict(X_test)\n",
    "y_proba = clf.predict_proba(X_test)[:, 1]  # probability scores "
   ]
  },
  {
   "cell_type": "code",
   "execution_count": null,
   "id": "148e19c2",
   "metadata": {},
   "outputs": [],
   "source": [
    "# Compute Metrics\n",
    "accuracy = accuracy_score(y_test, y_pred)\n",
    "roc_auc = roc_auc_score(y_test, y_proba)\n",
    "\n",
    "# Print results\n",
    "print(f\"Accuracy: {accuracy:.2f}\")      # Can be misleading for imbalanced data\n",
    "print(f\"ROC-AUC Score: {roc_auc:.2f}\")  # Better metric for imbalanced data"
   ]
  },
  {
   "cell_type": "code",
   "execution_count": null,
   "id": "0fb6a224",
   "metadata": {
    "scrolled": false
   },
   "outputs": [],
   "source": [
    "# Compute ROC curve\n",
    "fpr, tpr, _ = roc_curve(y_test, y_proba)\n",
    "\n",
    "# Plot ROC Curve\n",
    "plt.figure(figsize=(6, 4))\n",
    "plt.plot(fpr, tpr, color='blue', lw=2, label=f'ROC curve (AUC = {roc_auc:.2f})')\n",
    "plt.plot([0, 1], [0, 1], color='gray', linestyle='--')  # Random classifier line\n",
    "plt.xlabel(\"False Positive Rate\")\n",
    "plt.ylabel(\"True Positive Rate (Recall)\")\n",
    "plt.title(\"ROC Curve for Anomaly Detection\")\n",
    "plt.legend()"
   ]
  },
  {
   "cell_type": "markdown",
   "id": "e8fdb2dd",
   "metadata": {},
   "source": [
    "**Explanation**\n",
    "\n",
    "- Accuracy may be misleading: The model might predict \"Non-change\" for most cases and still get high accuracy (~95%).\n",
    "- ROC-AUC Score is more informative: It considers different probability thresholds and evaluates how well the model distinguishes between anomaly and non-change.\n",
    "\n",
    "ROC Curve Interpretation:\n",
    "\n",
    "- Closer to (0,1) → Better Model\n",
    "\n",
    "- Diagonal Line → Random Guessing\n",
    "\n",
    "- Higher AUC = Better Classification Performance\n",
    " \n",
    "**Use ROC-AUC when evaluating classifiers on imbalanced datasets to avoid misleading accuracy scores.**"
   ]
  },
  {
   "cell_type": "code",
   "execution_count": null,
   "id": "c01891be",
   "metadata": {},
   "outputs": [],
   "source": [
    "# Example 2: Random Forest vs. Logistic regression\n",
    "X, y = make_classification(\n",
    "    n_samples=1000, n_features=20, n_classes=2, random_state=42)\n",
    "\n",
    "X_train, X_test, y_train, y_test = train_test_split(\n",
    "    X, y, test_size=0.2, random_state=42)"
   ]
  },
  {
   "cell_type": "code",
   "execution_count": null,
   "id": "fce6c11a",
   "metadata": {},
   "outputs": [],
   "source": [
    "logistic_model = LogisticRegression(random_state=42)\n",
    "logistic_model.fit(X_train, y_train)\n",
    "\n",
    "random_forest_model = RandomForestClassifier(n_estimators=100, random_state=42)\n",
    "random_forest_model.fit(X_train, y_train)"
   ]
  },
  {
   "cell_type": "code",
   "execution_count": null,
   "id": "8b37363a",
   "metadata": {},
   "outputs": [],
   "source": [
    "y_pred_logistic = logistic_model.predict_proba(X_test)[:, 1]\n",
    "y_pred_rf = random_forest_model.predict_proba(X_test)[:, 1]\n"
   ]
  },
  {
   "cell_type": "code",
   "execution_count": null,
   "id": "8d4f8aee",
   "metadata": {},
   "outputs": [],
   "source": [
    "test_df = pd.DataFrame(\n",
    "    {'True': y_test, 'Logistic': y_pred_logistic, 'RandomForest': y_pred_rf})"
   ]
  },
  {
   "cell_type": "code",
   "execution_count": null,
   "id": "be6e340f",
   "metadata": {},
   "outputs": [],
   "source": [
    "plt.figure(figsize=(7, 5))\n",
    "\n",
    "for model in ['Logistic', 'RandomForest']:\n",
    "    fpr, tpr, _ = roc_curve(test_df['True'], test_df[model])\n",
    "    roc_auc = auc(fpr, tpr)\n",
    "    plt.plot(fpr, tpr, label=f'{model} (AUC = {roc_auc:.2f})')\n",
    "\n",
    "plt.plot([0, 1], [0, 1], 'r--', label='Random Guess')\n",
    "\n",
    "plt.xlabel('False Positive Rate')\n",
    "plt.ylabel('True Positive Rate')\n",
    "plt.title('ROC Curves for Two Models')\n",
    "plt.legend()\n",
    "plt.show()\n"
   ]
  },
  {
   "attachments": {
    "image.png": {
     "image/png": "[encoded data removed]"
    }
   },
   "cell_type": "markdown",
   "id": "e53abf7c",
   "metadata": {},
   "source": [
    "### Multi-class classification problem\n",
    "The general steps for using AUC-ROC in the context of a multiclass classification model are:\n",
    "\n",
    "**One-vs-All Methodology**:\n",
    "- For each class in your multiclass problem, treat it as the positive class while combining all other classes into the negative class.\n",
    "- Train the binary classifier for each class against the rest of the classes.\n",
    "\n",
    "**Calculate AUC-ROC for Each Class**:\n",
    "- Plot the ROC curves for each class on the same graph. Each curve represents the discrimination performance of the model for a specific class.\n",
    "- Examine the AUC scores for each class. A higher AUC score indicates better discrimination for that particular class.\n",
    "\n",
    "\n",
    "Here the plot of the ROC curve is for the given class against the rest (Logistic Regressiona and Random Forest).\n",
    "![image.png](attachment:image.png)"
   ]
  },
  {
   "cell_type": "markdown",
   "id": "2c7b2c09",
   "metadata": {},
   "source": [
    "---"
   ]
  },
  {
   "cell_type": "markdown",
   "id": "e5dca0cd",
   "metadata": {},
   "source": [
    "## 2. Exploratory Data Analysis (EDA)\n",
    "\n",
    "* Visualizing the data \n",
    "* Looking for correlations\n",
    "* Experiment with attributes \n"
   ]
  },
  {
   "cell_type": "markdown",
   "id": "21251c92",
   "metadata": {},
   "source": [
    "### Example: Meuse dataset \n",
    "This data set gives locations and topsoil heavy metal concentrations, along with a number of soil and landscape variables at the observation locations, collected in a flood plain of the river Meuse, near the village of Stein (NL). Heavy metal concentrations are from composite samples of an area of approximately 15 m x 15 m.\n",
    "\n",
    "Dataset meuse is a popular geostatistical dataset published as part of the 'sp' package of R statistical software under the GPL v3 license and maintained by Edzer Pebesma. This is pure copy of the dataset to make it available not only within R-project.\n",
    "\n",
    "Credits to the dataset: the Authors of the 'sp' package. http://cran.r-project.org/web/packages/sp/index.html\n",
    "\n",
    "Please se also: https://rsbivand.github.io/sp/reference/meuse.html."
   ]
  },
  {
   "cell_type": "code",
   "execution_count": null,
   "id": "d331f174",
   "metadata": {},
   "outputs": [],
   "source": [
    "# Spatial data example (Meuse river data set)\n",
    "url = 'https://raw.githubusercontent.com/lbrodsky/meuse/main/meuse.txt'\n",
    "meuse = pd.read_csv(url)"
   ]
  },
  {
   "cell_type": "code",
   "execution_count": null,
   "id": "5eee6b61",
   "metadata": {},
   "outputs": [],
   "source": [
    "meuse = gpd.GeoDataFrame(\n",
    "    meuse, geometry=gpd.points_from_xy(meuse['x'], meuse['y']))\n",
    "meuse['geometry'].head()"
   ]
  },
  {
   "cell_type": "code",
   "execution_count": null,
   "id": "7d499ada",
   "metadata": {},
   "outputs": [],
   "source": [
    "# https://rsbivand.github.io/sp/reference/meuse.html epsg:28992\n",
    "meuse = meuse.set_crs('epsg:28992')"
   ]
  },
  {
   "cell_type": "code",
   "execution_count": null,
   "id": "31184aa3",
   "metadata": {},
   "outputs": [],
   "source": [
    "# meuse.crs\n",
    "meuse_wm = meuse.to_crs(epsg=3857)"
   ]
  },
  {
   "cell_type": "code",
   "execution_count": null,
   "id": "c52bf08d",
   "metadata": {},
   "outputs": [],
   "source": [
    "meuse.head()"
   ]
  },
  {
   "cell_type": "code",
   "execution_count": null,
   "id": "74d3cb62",
   "metadata": {},
   "outputs": [],
   "source": [
    "# meuse['cadmium']"
   ]
  },
  {
   "cell_type": "markdown",
   "id": "609d5f11",
   "metadata": {},
   "source": [
    "#### Plot the sample data (Cadmium) in a map "
   ]
  },
  {
   "cell_type": "code",
   "execution_count": null,
   "id": "8dbbfcaa",
   "metadata": {
    "scrolled": false
   },
   "outputs": [],
   "source": [
    "# import contextily as cx\n",
    "ax = meuse_wm.plot(meuse_wm['dist'], markersize=meuse_wm['cadmium'] *10, alpha=0.9, figsize=(10,10), \n",
    "            legend=True, cmap=plt.get_cmap(\"plasma\"))\n",
    "# cx.add_basemap(ax)"
   ]
  },
  {
   "cell_type": "code",
   "execution_count": null,
   "id": "d21b35f7",
   "metadata": {
    "scrolled": true
   },
   "outputs": [],
   "source": [
    "meuse_wm.info()"
   ]
  },
  {
   "cell_type": "code",
   "execution_count": null,
   "id": "d12584a8",
   "metadata": {
    "scrolled": false
   },
   "outputs": [],
   "source": [
    "meuse_wm.describe()"
   ]
  },
  {
   "cell_type": "code",
   "execution_count": null,
   "id": "bcd69fc2",
   "metadata": {},
   "outputs": [],
   "source": [
    "# selected attributes\n",
    "meuse_wm[[\"cadmium\", \"copper\", \"lead\", \"zinc\", \"elev\", \"dist\", \"om\", \"soil\", \"lime\", \"ffreq\"]]"
   ]
  },
  {
   "cell_type": "code",
   "execution_count": null,
   "id": "dd9ae8e1",
   "metadata": {},
   "outputs": [],
   "source": [
    "meuse_corr = meuse_wm[[\"cadmium\", \"copper\", \"lead\", \"zinc\", \"elev\", \"dist\", \"om\", \"soil\", \"lime\", \"ffreq\"]].corr()\n",
    "fig, ax = plt.subplots(figsize=(9,7))\n",
    "sns.heatmap(meuse_corr, cmap=\"coolwarm\", annot=True,  fmt=\".1f\", vmin=-1, vmax=1)"
   ]
  },
  {
   "cell_type": "code",
   "execution_count": null,
   "id": "d291930f",
   "metadata": {
    "scrolled": false
   },
   "outputs": [],
   "source": [
    "# Pair-plot\"copper\", \"lead\", \"zinc\" with hue=\"cadmium\"\n",
    "sns.pairplot(meuse_wm[[\"cadmium\", \"elev\", \"dist\", \"om\", \"soil\", \"lime\", \"ffreq\"]])"
   ]
  },
  {
   "cell_type": "markdown",
   "id": "7321fd40",
   "metadata": {},
   "source": [
    "---"
   ]
  },
  {
   "cell_type": "markdown",
   "id": "a339cac9",
   "metadata": {},
   "source": [
    "## 3. Data Preparation\n",
    "\n",
    "Data preparation is a crucial step to ensure the quality and reliability of the model. This section focuses on feature engineering, which includes scaling, encoding categorical data, handling missing values, and splitting data correctly.\n",
    "\n",
    "3.1. **Feature Engineering**\n",
    "- Scaling: Normalization vs. Standardization\n",
    "- Encoding categorical data: OneHotEncoder vs. Ordinal Encoder\n",
    "\n",
    "3.2. **Handling Missing Data**\n",
    "- Gap filling techniques (mean, interpolation, ML-based imputation)\n",
    "\n",
    "3.3. **Splitting Data into Train/Test Sets**\n",
    "- Random Sampling vs. Stratified Sampling (when to use each)\n",
    "- Avoiding data leakage\n"
   ]
  },
  {
   "cell_type": "markdown",
   "id": "a91e0834",
   "metadata": {},
   "source": [
    "### Scaling: Normalization and Standardization\n",
    "\n",
    "Scaling numerical features is important for models sensitive to feature magnitudes, such as gradient-based algorithms (e.g., logistic regression, neural networks, k-NN, SVMs, etc.). When features have different units should be scaled to [0,1].\n",
    "\n",
    "**Normalization (Min-Max Scaling)** \n",
    "\n",
    "Normalization scales values to a fixed range, usually **[0,1]**.\n",
    "\n",
    "$$\n",
    "X' = \\frac{X - X_{\\min}}{X_{\\max} - X_{\\min}}\n",
    "$$\n",
    "\n",
    "**Where:**  \n",
    "- \\( X' \\) = normalized value  \n",
    "- \\( X \\) = original value  \n",
    "- \\( X_{\\min} \\) = minimum value in the feature  \n",
    "- \\( X_{\\max} \\) = maximum value in the feature  \n",
    "\n",
    "---\n",
    "\n",
    "**Standardization (Z-Score Scaling)**\n",
    "Standardization transforms data to have **zero mean** and **unit variance**.\n",
    "\n",
    "$$\n",
    "X' = \\frac{X - \\mu}{\\sigma}\n",
    "$$ \n",
    "\n",
    "**Where:**  \n",
    "- \\( X' \\) = standardized value  \n",
    "- \\( X \\) = original value  \n",
    "- \\( \\mu \\) = mean of the feature  \n",
    "- \\( \\sigma \\) = standard deviation of the feature  \n",
    "\n",
    "---\n",
    "\n",
    "Key Differences: \n",
    "- Affected by Outliers? Normalization: **Yes**, Standardization: **No** \n",
    "- When to Use? \n",
    "\n",
    "- Normalization when features have different units but similar importance. \n",
    "- Standardization when features follow a normal distribution. \n"
   ]
  },
  {
   "cell_type": "code",
   "execution_count": null,
   "id": "c2da4c71",
   "metadata": {},
   "outputs": [],
   "source": [
    "# Data \n",
    "# Synthetic dataset (Elevation in meters, Temperature in °C)\n",
    "np.random.seed(42)\n",
    "elevation = np.random.randint(0, 4000, 100)   # Elevation in meters\n",
    "temperature = np.random.randint(-10, 35, 100) # Temperature in °C\n",
    "\n",
    "# Binary classification: 1 = Snow, 0 = No Snow\n",
    "y = np.array([1 if e > 3000 or t < 0 else 0 for e, t in zip(elevation, temperature)])\n",
    "\n",
    "# Stack features\n",
    "X = np.column_stack((elevation, temperature))"
   ]
  },
  {
   "cell_type": "code",
   "execution_count": null,
   "id": "26df9918",
   "metadata": {},
   "outputs": [],
   "source": [
    "# Train-test split\n",
    "X_train, X_test, y_train, y_test = train_test_split(X, y, test_size=0.4, random_state=42)"
   ]
  },
  {
   "cell_type": "code",
   "execution_count": null,
   "id": "32e83c88",
   "metadata": {},
   "outputs": [],
   "source": [
    "# Model without scaling\n",
    "knn = KNeighborsClassifier(n_neighbors=3)\n",
    "knn.fit(X_train, y_train)\n",
    "y_pred = knn.predict(X_test)\n",
    "accuracy_unscaled = accuracy_score(y_test, y_pred)"
   ]
  },
  {
   "cell_type": "code",
   "execution_count": null,
   "id": "7ecc03a9",
   "metadata": {},
   "outputs": [],
   "source": [
    "# Model with Standardization\n",
    "scaler = StandardScaler()\n",
    "X_train_scaled = scaler.fit_transform(X_train)\n",
    "X_test_scaled = scaler.transform(X_test)\n",
    "\n",
    "knn_scaled = KNeighborsClassifier(n_neighbors=3)\n",
    "knn_scaled.fit(X_train_scaled, y_train)\n",
    "y_pred_scaled = knn_scaled.predict(X_test_scaled)\n",
    "accuracy_scaled = accuracy_score(y_test, y_pred_scaled)"
   ]
  },
  {
   "cell_type": "code",
   "execution_count": null,
   "id": "42ead1a1",
   "metadata": {},
   "outputs": [],
   "source": [
    "print(f\"Accuracy without Scaling: {accuracy_unscaled:.2f}\")  # Likely low\n",
    "print(f\"Accuracy with Standardization: {accuracy_scaled:.2f}\")  # Higher"
   ]
  },
  {
   "cell_type": "markdown",
   "id": "e04fbe7d",
   "metadata": {},
   "source": [
    "### Encoding Categorical Data: OneHotEncoder vs. OrdinalEncoder\n",
    "\n",
    "**One-Hot Encoding (OHE)**\n",
    "\n",
    "- Converts categorical values into binary vectors.\n",
    "- Each category gets a separate column (good for non-ordinal categories).\n",
    "\n",
    "**Ordinal Encoding**\n",
    "\n",
    "- Assigns integer values to categories (good for ordinal features)."
   ]
  },
  {
   "cell_type": "code",
   "execution_count": null,
   "id": "d954b7e3",
   "metadata": {},
   "outputs": [],
   "source": [
    "from sklearn.preprocessing import OneHotEncoder\n",
    "\n",
    "# categories\n",
    "colors = np.array([[\"Red\"], [\"Green\"], [\"Blue\"], [\"Red\"], [\"Blue\"]])"
   ]
  },
  {
   "cell_type": "code",
   "execution_count": null,
   "id": "131a6db7",
   "metadata": {},
   "outputs": [],
   "source": [
    "# Apply One-Hot Encoding\n",
    "encoder = OneHotEncoder(sparse_output=False)\n",
    "encoded_colors = encoder.fit_transform(colors)"
   ]
  },
  {
   "cell_type": "code",
   "execution_count": null,
   "id": "88a6eb63",
   "metadata": {},
   "outputs": [],
   "source": [
    "encoder.categories_"
   ]
  },
  {
   "cell_type": "code",
   "execution_count": null,
   "id": "582e0a44",
   "metadata": {},
   "outputs": [],
   "source": [
    "# Show results\n",
    "print(\"Original Categories:\\n\", colors.ravel())\n",
    "print(\"\\nOne-Hot Encoded Matrix:\\n\", encoded_colors)"
   ]
  },
  {
   "cell_type": "markdown",
   "id": "dca8943f",
   "metadata": {},
   "source": [
    "### Handling Missing Data\n",
    "\n",
    "Handling missing values properly prevents biased or incorrect model outputs.\n",
    "\n",
    "Gap Filling Techniques:\n",
    "\n",
    "1. Mean/Median Imputation: Suitable for small missing values in numerical data.\n",
    "\n",
    "\n",
    "`imputer = SimpleImputer(strategy='mean'); X_filled = imputer.fit_transform(X)`\n",
    "\n",
    "\n",
    "2. Interpolation: Uses linear, polynomial, or time-series methods.\n",
    "\n",
    "3. ML-Based Imputation (KNN, Iterative Imputer): uses machine learning to predict missing values.\n",
    "\n",
    "`\n",
    "from sklearn.impute import KNNImputer\n",
    "imputer = KNNImputer(n_neighbors=3)\n",
    "X_filled = imputer.fit_transform(X)\n",
    "`"
   ]
  },
  {
   "cell_type": "markdown",
   "id": "bba7dc58",
   "metadata": {},
   "source": [
    "#### Data imputing"
   ]
  },
  {
   "cell_type": "code",
   "execution_count": null,
   "id": "5d91fc91",
   "metadata": {},
   "outputs": [],
   "source": [
    "import numpy as np\n",
    "from sklearn.impute import SimpleImputer"
   ]
  },
  {
   "cell_type": "code",
   "execution_count": null,
   "id": "2c73a063",
   "metadata": {},
   "outputs": [],
   "source": [
    "X = [[np.nan, 2, 3], [4, np.nan, 6], [10, np.nan, 9]]\n",
    "print(X)"
   ]
  },
  {
   "cell_type": "code",
   "execution_count": null,
   "id": "333edbd5",
   "metadata": {},
   "outputs": [],
   "source": [
    "imp_mean = SimpleImputer(missing_values=np.nan, strategy='mean')\n",
    "imp_mean.fit(X)\n",
    "SimpleImputer()"
   ]
  },
  {
   "cell_type": "code",
   "execution_count": null,
   "id": "b44c66a0",
   "metadata": {
    "scrolled": true
   },
   "outputs": [],
   "source": [
    "print(imp_mean.transform(X))"
   ]
  },
  {
   "cell_type": "markdown",
   "id": "bc8978ba",
   "metadata": {},
   "source": [
    "### Splitting Data into Train/Test Sets\n",
    "\n",
    "1. **Random Sampling** (default in train_test_split()):  may result in an unequal class distribution in train and test sets.\n",
    " \n",
    "\n",
    "2. **Stratified Sampling**: ensures that both sets maintain the same class proportions.\n",
    "Use when the dataset is imbalanced (e.g., fraud detection, medical diagnosis)."
   ]
  },
  {
   "cell_type": "code",
   "execution_count": null,
   "id": "f8b99db1",
   "metadata": {},
   "outputs": [],
   "source": [
    "# Example: stratified samplig \n",
    "from sklearn.model_selection import train_test_split\n",
    "\n",
    "X, y = make_classification(\n",
    "    n_samples=1000, n_features=20, n_classes=2, random_state=42)\n",
    "\n",
    "X_train, X_test, y_train, y_test = train_test_split(X, y, test_size=0.2, stratify=y, random_state=42)"
   ]
  },
  {
   "cell_type": "code",
   "execution_count": null,
   "id": "f499ff1e",
   "metadata": {},
   "outputs": [],
   "source": []
  },
  {
   "cell_type": "markdown",
   "id": "a9583d46",
   "metadata": {},
   "source": [
    "### Avoiding Data Leakage\n",
    "\n",
    "Data Leakage happens when information from outside the training dataset is used to build the model, leading to overfitting.\n",
    "\n",
    "1. **Leaking Target Information into Features**: \n",
    "    Example: Using a feature that contains future information (e.g., using a \"Payment Completed\" column to predict fraud before the payment is processed).\n",
    "\n",
    "2. **Scaling/Encoding Before Splitting**: "
   ]
  },
  {
   "cell_type": "code",
   "execution_count": null,
   "id": "2f3e4616",
   "metadata": {},
   "outputs": [],
   "source": [
    "from sklearn.preprocessing import StandardScaler\n",
    "\n",
    "scaler = StandardScaler()\n",
    "X_scaled = scaler.fit_transform(X)  # Wrong! Applied before train-test split"
   ]
  },
  {
   "cell_type": "code",
   "execution_count": null,
   "id": "c6e8d0a1",
   "metadata": {},
   "outputs": [],
   "source": [
    "# Corrected: \n",
    "X_train, X_test, y_train, y_test = train_test_split(X, y, test_size=0.2, random_state=42)\n",
    "\n",
    "scaler = StandardScaler()\n",
    "X_train_scaled = scaler.fit_transform(X_train)\n",
    "X_test_scaled = scaler.transform(X_test)  # Use transform, not fit_transform!"
   ]
  },
  {
   "cell_type": "markdown",
   "id": "7ddc8106",
   "metadata": {},
   "source": [
    "3. **Using Entire Dataset for Feature Selection Before Splitting**\n"
   ]
  },
  {
   "cell_type": "code",
   "execution_count": null,
   "id": "2f7ec7bf",
   "metadata": {},
   "outputs": [],
   "source": [
    "from sklearn.feature_selection import SelectKBest, f_classif\n",
    "\n",
    "selector = SelectKBest(score_func=f_classif, k=10)\n",
    "X_selected = selector.fit_transform(X, y)  # Causes leakage!"
   ]
  },
  {
   "cell_type": "code",
   "execution_count": null,
   "id": "f8f9f767",
   "metadata": {
    "scrolled": true
   },
   "outputs": [],
   "source": [
    "# Correct: \n",
    "selector.fit(X_train, y_train)\n",
    "X_train_selected = selector.transform(X_train)\n",
    "X_test_selected = selector.transform(X_test)  # Avoids leakage!"
   ]
  },
  {
   "cell_type": "markdown",
   "id": "f0edd741",
   "metadata": {},
   "source": [
    "### Summary data preparation: \n",
    "- Scaling: Normalization is used when features have different units but similar importance. Standardization is used when features follow a normal distribution. \n",
    "- Encoding: One-Hot for nominal, Ordinal for ordered categories. \n",
    "- Missing Data: mean for small gaps, Interpolation for time-series, ML-based for complex cases. \n",
    "- Splitting Data: stratified sampling for imbalanced datasets. \n",
    "- Avoiding Leakage: always apply transformations after splitting data! "
   ]
  },
  {
   "cell_type": "markdown",
   "id": "910f2044",
   "metadata": {},
   "source": [
    "## 4. Select & Train Model\n",
    "\n",
    "**Suggestions**: \n",
    "- Always start with a simple model (baseline).\n",
    "- Check linearity before selecting models.\n",
    "- Take care of bias-variance tradeoff, adjust model complexity. \n",
    "- Potentially use learning & validation curves in case of iterative learning algorithm. "
   ]
  },
  {
   "cell_type": "markdown",
   "id": "70d37ee1",
   "metadata": {},
   "source": [
    "## 5. Model Fine-Tuning"
   ]
  },
  {
   "cell_type": "markdown",
   "id": "fc846b39",
   "metadata": {},
   "source": [
    "### Grid Search vs. Randomized Search\n",
    "\n",
    "Grid Search exhaustively searches through a predefined hyperparameter grid. \n",
    "\n",
    "Randomized Search selects random combinations of hyperparameters to find the best model efficiently."
   ]
  },
  {
   "cell_type": "code",
   "execution_count": null,
   "id": "d1ca9751",
   "metadata": {},
   "outputs": [],
   "source": [
    "# Load data\n",
    "iris = load_iris()\n",
    "X_train, X_test, y_train, y_test = train_test_split(iris.data, iris.target, test_size=0.2, random_state=42)"
   ]
  },
  {
   "cell_type": "code",
   "execution_count": null,
   "id": "cbf14afd",
   "metadata": {},
   "outputs": [],
   "source": [
    "# Grid Search with Random Forest\n",
    "\n",
    "# Define hyperparameter grid\n",
    "param_grid = {\n",
    "    'n_estimators': [50, 100, 200],  # Number of trees\n",
    "    'max_depth': [2, 3, 4, 5, 6, 7, 8, 9, 10, 20], # Depth of trees\n",
    "    'min_samples_split': [2, 5, 10], # Minimum samples to split a node\n",
    "    'min_samples_leaf': [1, 2, 4]    # Minimum samples per leaf\n",
    "}\n",
    "\n",
    "# Perform Grid Search\n",
    "grid_search = GridSearchCV(RandomForestClassifier(), param_grid, cv=5, scoring='accuracy', n_jobs=-1)\n",
    "grid_search.fit(X_train, y_train)"
   ]
  },
  {
   "cell_type": "code",
   "execution_count": null,
   "id": "6a0e1d0a",
   "metadata": {
    "scrolled": true
   },
   "outputs": [],
   "source": [
    "# Print best parameters\n",
    "print(\"Best Parameters (Grid Search):\", grid_search.best_params_)"
   ]
  },
  {
   "cell_type": "code",
   "execution_count": null,
   "id": "945df256",
   "metadata": {},
   "outputs": [],
   "source": [
    "# Randomized Search with Random Forest\n",
    "# [None, 10, 20, 30, 50]\n",
    "\n",
    "# Define hyperparameter distributions\n",
    "param_dist = {\n",
    "    'n_estimators': randint(50, 500),\n",
    "    'max_depth': (2, 20),\n",
    "    'min_samples_split': randint(2, 20),\n",
    "    'min_samples_leaf': randint(1, 10)\n",
    "}\n",
    "\n",
    "# Perform Randomized Search\n",
    "random_search = RandomizedSearchCV(RandomForestClassifier(), param_dist, n_iter=20, cv=5, scoring='accuracy', random_state=42, n_jobs=-1)\n",
    "random_search.fit(X_train, y_train)"
   ]
  },
  {
   "cell_type": "code",
   "execution_count": null,
   "id": "3c5dda75",
   "metadata": {},
   "outputs": [],
   "source": [
    "# Print best parameters\n",
    "print(\"Best Parameters (Randomized Search):\", random_search.best_params_)"
   ]
  },
  {
   "cell_type": "markdown",
   "id": "cbc2a5cd",
   "metadata": {},
   "source": [
    "**Which One to Use?** \n",
    "\n",
    "    Grid Search is useful when the parameter space is small and you want the most precise tuning.\n",
    "\n",
    "    Randomized Search is better for large parameter spaces because it is computationally efficient.\n"
   ]
  },
  {
   "cell_type": "code",
   "execution_count": null,
   "id": "9820cb0a",
   "metadata": {},
   "outputs": [],
   "source": [
    "print(grid_search.best_score_, random_search.best_score_)"
   ]
  },
  {
   "cell_type": "markdown",
   "id": "d385ee2f",
   "metadata": {},
   "source": [
    "### K-Fold & Stratified K-Fold"
   ]
  },
  {
   "cell_type": "code",
   "execution_count": null,
   "id": "5a577a39",
   "metadata": {},
   "outputs": [],
   "source": [
    "# Create a Classification Dataset\n",
    "X, y = make_classification(n_samples=1000, n_features=10, n_classes=2, \n",
    "                           weights=[0.7, 0.3], random_state=42)  # Slightly imbalanced"
   ]
  },
  {
   "cell_type": "code",
   "execution_count": null,
   "id": "de7c2088",
   "metadata": {},
   "outputs": [],
   "source": [
    "# Define the Model\n",
    "model = RandomForestClassifier(n_estimators=100, random_state=42)\n",
    "\n",
    "# K-Fold Cross-Validation (Standard)\n",
    "kf = KFold(n_splits=5, shuffle=True, random_state=42)\n",
    "kf_scores = cross_val_score(model, X, y, cv=kf, scoring='accuracy')\n",
    "\n",
    "print(\"K-Fold Cross-Validation Results:\")\n",
    "print(\"Individual Fold Accuracies:\", kf_scores)"
   ]
  },
  {
   "cell_type": "code",
   "execution_count": null,
   "id": "bf46425e",
   "metadata": {
    "scrolled": true
   },
   "outputs": [],
   "source": [
    "# Step 4: Stratified K-Fold Cross-Validation (For Imbalanced Data)\n",
    "skf = StratifiedKFold(n_splits=5, shuffle=True, random_state=42)\n",
    "skf_scores = cross_val_score(model, X, y, cv=skf, scoring='accuracy')\n",
    "\n",
    "print(\"\\n Stratified K-Fold Cross-Validation Results:\")\n",
    "print(\"Individual Fold Accuracies:\", skf_scores)"
   ]
  },
  {
   "cell_type": "code",
   "execution_count": null,
   "id": "76ffa0f6",
   "metadata": {},
   "outputs": [],
   "source": [
    "plt.plot(kf_scores, label='K-Fold')\n",
    "plt.plot(skf_scores, label='StartifiedK-Fold')\n",
    "plt.legend()"
   ]
  },
  {
   "cell_type": "markdown",
   "id": "75a3d380",
   "metadata": {},
   "source": [
    "If the dataset is balanced, K-Fold and Stratified K-Fold give similar results.\n",
    "\n",
    "If the dataset is imbalanced, Stratified K-Fold provides more reliable results by ensuring class proportions in each fold."
   ]
  },
  {
   "cell_type": "markdown",
   "id": "5da13cc8",
   "metadata": {},
   "source": [
    "### Handling Imbalanced Datasets\n",
    "**SMOTE (Synthetic Minority Oversampling Technique)**"
   ]
  },
  {
   "cell_type": "code",
   "execution_count": null,
   "id": "8dc6cfc8",
   "metadata": {},
   "outputs": [],
   "source": [
    "# define dataset\n",
    "X, y = make_classification(n_samples=10000, n_features=2, n_redundant=0,\n",
    "                           n_clusters_per_class=1, weights=[0.99], flip_y=0, random_state=1)\n",
    "# summarize class distribution\n",
    "counter = Counter(y)\n",
    "print(counter)"
   ]
  },
  {
   "cell_type": "code",
   "execution_count": null,
   "id": "b6009fa9",
   "metadata": {},
   "outputs": [],
   "source": [
    "# scatter plot of examples by class label\n",
    "for label, _ in counter.items():\n",
    "    row_ix = np.where(y == label)[0]\n",
    "    plt.scatter(X[row_ix, 0], X[row_ix, 1], label=str(label))\n",
    "    plt.legend()"
   ]
  },
  {
   "cell_type": "code",
   "execution_count": null,
   "id": "032d1466",
   "metadata": {},
   "outputs": [],
   "source": [
    "# transform the dataset\n",
    "oversample = SMOTE()\n",
    "X, y = oversample.fit_resample(X, y)"
   ]
  },
  {
   "cell_type": "code",
   "execution_count": null,
   "id": "83f731cf",
   "metadata": {},
   "outputs": [],
   "source": [
    "# summarize the new class distribution\n",
    "counter = Counter(y)\n",
    "print(counter)"
   ]
  },
  {
   "cell_type": "code",
   "execution_count": null,
   "id": "3d15a5b4",
   "metadata": {},
   "outputs": [],
   "source": [
    "# scatter plot of examples by class label\n",
    "for label, _ in counter.items():\n",
    "    row_ix = np.where(y == label)[0]\n",
    "    plt.scatter(X[row_ix, 0], X[row_ix, 1], label=str(label))\n",
    "plt.legend()\n",
    "plt.show()"
   ]
  },
  {
   "cell_type": "code",
   "execution_count": null,
   "id": "77f0cf0a",
   "metadata": {},
   "outputs": [],
   "source": [
    "# Classification with SMOTE"
   ]
  },
  {
   "cell_type": "code",
   "execution_count": null,
   "id": "77426c83",
   "metadata": {},
   "outputs": [],
   "source": [
    "# define dataset\n",
    "X, y = make_classification(n_samples=10000, n_features=2, n_redundant=0,\n",
    "                           n_clusters_per_class=1, weights=[0.99], flip_y=0, random_state=1)\n",
    "# define model\n",
    "model = DecisionTreeClassifier()\n",
    "# evaluate pipeline\n",
    "cv = RepeatedStratifiedKFold(n_splits=10, n_repeats=3, random_state=1)\n",
    "scores = cross_val_score(model, X, y, scoring='roc_auc', cv=cv, n_jobs=-1)\n",
    "print('Mean ROC AUC: %.3f' % np.mean(scores))"
   ]
  },
  {
   "cell_type": "code",
   "execution_count": null,
   "id": "65bfa744",
   "metadata": {},
   "outputs": [],
   "source": [
    "# define dataset\n",
    "X, y = make_classification(n_samples=10000, n_features=2, n_redundant=0,\n",
    "                           n_clusters_per_class=1, weights=[0.99], flip_y=0, random_state=1)\n",
    "# define pipeline\n",
    "steps = [('over', SMOTE()), ('model', DecisionTreeClassifier())]\n",
    "pipeline = Pipeline(steps=steps)\n",
    "\n",
    "# evaluate pipeline\n",
    "cv = RepeatedStratifiedKFold(n_splits=10, n_repeats=3, random_state=1)\n",
    "scores = cross_val_score(pipeline, X, y, scoring='roc_auc', cv=cv, n_jobs=-1)\n",
    "print('Mean ROC AUC: %.3f' % np.mean(scores))"
   ]
  },
  {
   "cell_type": "markdown",
   "id": "24ede766",
   "metadata": {},
   "source": [
    "In this case, we can see a modest improvement in performance from a ROC AUC of about 0.76 to about 0.80."
   ]
  },
  {
   "cell_type": "markdown",
   "id": "1a1bbc55",
   "metadata": {},
   "source": [
    "### Why Adjust Class Weights?\n",
    "\n",
    "* When dealing with imbalanced data, models tend to favor the majority class.\n",
    "\n",
    "* Setting class_weight='balanced' helps give more importance to the minority class.\n",
    "\n",
    "* Works well in Logistic Regression, Random Forest, etc. models."
   ]
  },
  {
   "cell_type": "code",
   "execution_count": null,
   "id": "55ac1458",
   "metadata": {},
   "outputs": [],
   "source": [
    "# Create an imbalanced Dataset\n",
    "X, y = make_classification(n_samples=2000, n_features=10, n_classes=2, \n",
    "                           weights=[0.9, 0.1], random_state=42)  # 90% of one class!\n",
    "\n",
    "# Train-Test Split\n",
    "X_train, X_test, y_train, y_test = train_test_split(X, y, test_size=0.2, random_state=42)"
   ]
  },
  {
   "cell_type": "code",
   "execution_count": null,
   "id": "55eef370",
   "metadata": {},
   "outputs": [],
   "source": [
    "# Train a Model WITHOUT Class Weight Adjustment\n",
    "rf_no_weights = RandomForestClassifier(random_state=42)\n",
    "rf_no_weights.fit(X_train, y_train)\n",
    "y_pred_no_weights = rf_no_weights.predict(X_test)"
   ]
  },
  {
   "cell_type": "code",
   "execution_count": null,
   "id": "18ad8f19",
   "metadata": {},
   "outputs": [],
   "source": [
    "# Train a Model WITH Class Weights Adjusted\n",
    "rf_with_weights = RandomForestClassifier(class_weight='balanced', random_state=42)\n",
    "rf_with_weights.fit(X_train, y_train)\n",
    "y_pred_with_weights = rf_with_weights.predict(X_test)"
   ]
  },
  {
   "cell_type": "code",
   "execution_count": null,
   "id": "8637c746",
   "metadata": {},
   "outputs": [],
   "source": [
    "# Print Accuracy & Classification Report\n",
    "print(\"Model WITHOUT Class Weights Adjustment:\")\n",
    "print(\"Accuracy:\", accuracy_score(y_test, y_pred_no_weights))\n",
    "print(\"f1_score:\", round(f1_score(y_test, y_pred_no_weights), 2))\n",
    "print('---')\n",
    "print(\"Model WITH Class Weights Adjustment:\")\n",
    "print(\"Accuracy:\", accuracy_score(y_test, y_pred_with_weights))\n",
    "print(\"f1_score:\", round(f1_score(y_test, y_pred_with_weights), 2))\n"
   ]
  },
  {
   "cell_type": "markdown",
   "id": "88931fc4",
   "metadata": {},
   "source": [
    "---"
   ]
  },
  {
   "cell_type": "markdown",
   "id": "2d7a3e7a",
   "metadata": {},
   "source": [
    "# 6. Results Interpretation\n",
    "\n",
    "See presentation "
   ]
  },
  {
   "cell_type": "code",
   "execution_count": null,
   "id": "9d21684e",
   "metadata": {},
   "outputs": [],
   "source": []
  }
 ],
 "metadata": {
  "kernelspec": {
   "display_name": "IF_HydroSim",
   "language": "python",
   "name": "python3"
  },
  "language_info": {
   "name": "python",
   "version": "3.13.0"
  }
 },
 "nbformat": 4,
 "nbformat_minor": 5
}
