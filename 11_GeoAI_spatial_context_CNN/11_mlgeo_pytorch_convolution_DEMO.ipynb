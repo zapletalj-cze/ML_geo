{
 "cells": [
  {
   "cell_type": "markdown",
   "id": "402eb2e0",
   "metadata": {},
   "source": [
    "___\n",
    "\n",
    "# Machine Learning in Geosciences ] \n",
    "Department of Applied Geoinformatics and Carthography, Charles University\n",
    "\n",
    "Lukas Brodsky lukas.brodsky@natur.cuni.cz"
   ]
  },
  {
   "cell_type": "markdown",
   "id": "472c6b37",
   "metadata": {},
   "source": [
    "## Example of PyTorch convolution"
   ]
  },
  {
   "cell_type": "code",
   "execution_count": null,
   "id": "8c23d799",
   "metadata": {},
   "outputs": [],
   "source": [
    "import os \n",
    "import torch\n",
    "import torch.nn as nn\n",
    "from torch.utils.data import DataLoader\n",
    "from torchvision import datasets, transforms\n",
    "import matplotlib.pyplot as plt\n",
    "%matplotlib inline"
   ]
  },
  {
   "cell_type": "code",
   "execution_count": null,
   "id": "62739f87",
   "metadata": {},
   "outputs": [],
   "source": [
    "os.listdir('./')"
   ]
  },
  {
   "cell_type": "code",
   "execution_count": null,
   "id": "adeb5336",
   "metadata": {},
   "outputs": [],
   "source": [
    "# data \n",
    "transform = transforms.ToTensor()\n",
    "test_data = datasets.MNIST(root='./data', download=True, train=False, transform=transform)\n",
    "\n",
    "# data = datasets.EuroSAT(root='./data', download=True, target_transform=transform)\n"
   ]
  },
  {
   "cell_type": "code",
   "execution_count": null,
   "id": "43aa4ea1",
   "metadata": {},
   "outputs": [],
   "source": [
    "test_loader = DataLoader(dataset=test_data , batch_size=10, shuffle=False)\n",
    "for images, labels in test_loader: \n",
    "    break"
   ]
  },
  {
   "cell_type": "code",
   "execution_count": null,
   "id": "32bd8626",
   "metadata": {},
   "outputs": [],
   "source": [
    "image = images[0]\n",
    "image.shape\n",
    "plt.imshow(image.detach().numpy()[0, :, :], cmap='gray')"
   ]
  },
  {
   "cell_type": "markdown",
   "id": "2fb53c34",
   "metadata": {},
   "source": [
    "### Convolution"
   ]
  },
  {
   "cell_type": "code",
   "execution_count": null,
   "id": "a81d0e78",
   "metadata": {},
   "outputs": [],
   "source": [
    "image.shape"
   ]
  },
  {
   "cell_type": "markdown",
   "id": "94caa2e9",
   "metadata": {},
   "source": [
    "`nn.Conv2d()`"
   ]
  },
  {
   "cell_type": "markdown",
   "id": "6211b898",
   "metadata": {},
   "source": [
    "nn.Conv2d(\n",
    "    in_channels, \n",
    "    out_channels, \n",
    "    kernel_size, \n",
    "    stride, \n",
    "    padding, \n",
    "    device=None\n",
    ")\n",
    "\n",
    "* `in_channels` number of input channels \n",
    "\n",
    "* `out_channels` number of outpu channels \n",
    "\n",
    "* `kernel_size` size of the convolution kernel \n",
    "\n",
    "* `stride` controls the stride of the kernel \n",
    "\n",
    "* `padding` controls the amount of padding pixels  applied to the input\n",
    "  \n",
    "* `device` either CPU or GPU \n"
   ]
  },
  {
   "cell_type": "code",
   "execution_count": null,
   "id": "60fc7978",
   "metadata": {},
   "outputs": [],
   "source": [
    "conv = nn.Conv2d(in_channels=1,out_channels=1,kernel_size=3,stride=1, padding=1)"
   ]
  },
  {
   "cell_type": "code",
   "execution_count": null,
   "id": "e731b64a",
   "metadata": {},
   "outputs": [],
   "source": [
    "conv"
   ]
  },
  {
   "cell_type": "code",
   "execution_count": null,
   "id": "c5373f80",
   "metadata": {},
   "outputs": [],
   "source": [
    "image_conv = conv(image)"
   ]
  },
  {
   "cell_type": "code",
   "execution_count": null,
   "id": "8728e327",
   "metadata": {},
   "outputs": [],
   "source": [
    "image_conv.shape"
   ]
  },
  {
   "cell_type": "code",
   "execution_count": null,
   "id": "6bf5288f",
   "metadata": {
    "scrolled": false
   },
   "outputs": [],
   "source": [
    "plt.imshow(image_conv.detach().numpy()[0, :, :], cmap='gray', interpolation ='nearest')"
   ]
  },
  {
   "cell_type": "code",
   "execution_count": null,
   "id": "34a9aba2",
   "metadata": {},
   "outputs": [],
   "source": [
    "conv.weight.size()"
   ]
  },
  {
   "cell_type": "code",
   "execution_count": null,
   "id": "f777e9a4",
   "metadata": {
    "scrolled": true
   },
   "outputs": [],
   "source": [
    "conv.weight = nn.Parameter(torch.ones((1, 1, 3, 3)))\n",
    "conv.weight"
   ]
  },
  {
   "cell_type": "code",
   "execution_count": null,
   "id": "450ed7d6",
   "metadata": {
    "scrolled": false
   },
   "outputs": [],
   "source": [
    "image_conv = conv(image)\n",
    "plt.imshow(image_conv.detach().numpy()[0, :, :], cmap='gray', interpolation ='nearest')"
   ]
  },
  {
   "cell_type": "code",
   "execution_count": null,
   "id": "e2a7a9f8",
   "metadata": {
    "scrolled": true
   },
   "outputs": [],
   "source": [
    "conv.weight = nn.Parameter(torch.zeros((1, 1, 3, 3)))\n",
    "conv.weight"
   ]
  },
  {
   "cell_type": "code",
   "execution_count": null,
   "id": "8c7b3ff6",
   "metadata": {
    "scrolled": false
   },
   "outputs": [],
   "source": [
    "image_conv = conv(image)\n",
    "plt.imshow(image_conv.detach().numpy()[0, :, :], cmap='gray', interpolation ='nearest')"
   ]
  },
  {
   "attachments": {
    "image.png": {
     "image/png": "[encoded data removed]"
    }
   },
   "cell_type": "markdown",
   "id": "5e11aa48",
   "metadata": {},
   "source": [
    "#### High pass filter \n",
    "![image.png](attachment:image.png)"
   ]
  },
  {
   "cell_type": "code",
   "execution_count": null,
   "id": "9018335a",
   "metadata": {},
   "outputs": [],
   "source": [
    "hp = [\n",
    "      [  0.0, -0.25, 0.0 ], \n",
    "      [-0.25,  2.0, -0.25], \n",
    "      [  0.0, -0.25, 0.0 ]\n",
    "     ]"
   ]
  },
  {
   "cell_type": "code",
   "execution_count": null,
   "id": "e98eb908",
   "metadata": {
    "scrolled": true
   },
   "outputs": [],
   "source": [
    "plt.imshow(hp)\n",
    "plt.colorbar()"
   ]
  },
  {
   "cell_type": "code",
   "execution_count": null,
   "id": "233db8a4",
   "metadata": {},
   "outputs": [],
   "source": [
    "hp_torch = torch.FloatTensor(hp)"
   ]
  },
  {
   "cell_type": "code",
   "execution_count": null,
   "id": "ce0c864f",
   "metadata": {},
   "outputs": [],
   "source": [
    "hp_torch"
   ]
  },
  {
   "cell_type": "code",
   "execution_count": null,
   "id": "f11149f3",
   "metadata": {},
   "outputs": [],
   "source": [
    "conv.weight = nn.Parameter(torch.reshape(hp_torch, (1, 1, 3, 3)))\n",
    "conv.weight"
   ]
  },
  {
   "cell_type": "code",
   "execution_count": null,
   "id": "9d700c75",
   "metadata": {},
   "outputs": [],
   "source": [
    "image_conv = conv(image)\n",
    "plt.imshow(image_conv.detach().numpy()[0, :, :], cmap='gray', interpolation ='nearest')"
   ]
  },
  {
   "cell_type": "markdown",
   "id": "f19ed336",
   "metadata": {},
   "source": [
    "### Question: \n",
    "If a 28x28 image is passed through a Convolutional layer using a 5x5 filter, a step size of 1,  and no padding, what is the resulting matrix size?\n"
   ]
  },
  {
   "cell_type": "code",
   "execution_count": null,
   "id": "1036ad4f",
   "metadata": {},
   "outputs": [],
   "source": []
  }
 ],
 "metadata": {
  "kernelspec": {
   "display_name": "Python 3 (ipykernel)",
   "language": "python",
   "name": "python3"
  },
  "language_info": {
   "codemirror_mode": {
    "name": "ipython",
    "version": 3
   },
   "file_extension": ".py",
   "mimetype": "text/x-python",
   "name": "python",
   "nbconvert_exporter": "python",
   "pygments_lexer": "ipython3",
   "version": "3.9.10"
  }
 },
 "nbformat": 4,
 "nbformat_minor": 5
}
