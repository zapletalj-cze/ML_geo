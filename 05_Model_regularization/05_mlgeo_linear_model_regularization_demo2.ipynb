{
 "cells": [
  {
   "cell_type": "markdown",
   "id": "651f169f",
   "metadata": {},
   "source": [
    "# ___\n",
    "\n",
    "# [ Machine Learning in Geosciences ]\n",
    "\n",
    "**Department of Applied Geoinformatics and Carthography, Charles University** \n",
    "\n",
    "*Lukas Brodsky lukas.brodsky@natur.cuni.cz*\n"
   ]
  },
  {
   "cell_type": "markdown",
   "id": "70418310",
   "metadata": {},
   "source": [
    "# DEMO2: Linear model regularization: Lasso, Ridge, Elastic net"
   ]
  },
  {
   "cell_type": "markdown",
   "id": "eac3adf6",
   "metadata": {},
   "source": [
    "This demo provides example implementation of L1 (Lasso), L2 (Ridge), and Elastic Net regularization in Python using scikit-learn. \n",
    "\n",
    "1. Generate synthetic data.\n",
    "2. Train models using Ridge, Lasso, and Elastic Net regression.\n",
    "3. Visualize the effects of different regularization methods."
   ]
  },
  {
   "cell_type": "code",
   "execution_count": null,
   "id": "a038cd13",
   "metadata": {},
   "outputs": [],
   "source": [
    "import numpy as np\n",
    "import matplotlib.pyplot as plt\n",
    "from sklearn.linear_model import Ridge, Lasso, ElasticNet, LinearRegression\n",
    "from sklearn.model_selection import train_test_split\n",
    "from sklearn.metrics import mean_squared_error"
   ]
  },
  {
   "cell_type": "code",
   "execution_count": null,
   "id": "a9bd5540",
   "metadata": {},
   "outputs": [],
   "source": [
    "# Generate synthetic data \n",
    "np.random.seed(42)\n",
    "X = np.random.rand(100, 20)  \n",
    "true_coeffs = np.array([3, -1.5, 0, 0, 2] + [0] * 15)  # Only first 5 matter, others are noise\n",
    "y = X.dot(true_coeffs) + np.random.randn(100) * 5"
   ]
  },
  {
   "cell_type": "code",
   "execution_count": null,
   "id": "f66cb728",
   "metadata": {},
   "outputs": [],
   "source": [
    "# Split into train and test sets\n",
    "X_train, X_test, y_train, y_test = train_test_split(X, y, test_size=0.5, random_state=42)"
   ]
  },
  {
   "cell_type": "markdown",
   "id": "abb49604",
   "metadata": {},
   "source": [
    "### No Regularization (Ordinary Least Squares - OLS)"
   ]
  },
  {
   "cell_type": "code",
   "execution_count": null,
   "id": "3fed5904",
   "metadata": {},
   "outputs": [],
   "source": [
    "# 1. No Regularization (Ordinary Least Squares - OLS)\n",
    "ols = LinearRegression()\n",
    "ols.fit(X_train, y_train)"
   ]
  },
  {
   "cell_type": "markdown",
   "id": "c3fcd7b5",
   "metadata": {},
   "source": [
    "### Regularization strength"
   ]
  },
  {
   "cell_type": "code",
   "execution_count": null,
   "id": "a09540b9",
   "metadata": {},
   "outputs": [],
   "source": [
    "# Define regularization strength\n",
    "alpha = 0.1  # Lambda (Regularization parameter)"
   ]
  },
  {
   "cell_type": "markdown",
   "id": "5119c49d",
   "metadata": {},
   "source": [
    "### Ridge Regression (L2 regularization)"
   ]
  },
  {
   "cell_type": "code",
   "execution_count": null,
   "id": "3a03bca3",
   "metadata": {},
   "outputs": [],
   "source": [
    "# Train Ridge Regression (L2 regularization)\n",
    "ridge = Ridge(alpha=alpha)\n",
    "ridge.fit(X_train, y_train)"
   ]
  },
  {
   "cell_type": "markdown",
   "id": "78d63aec",
   "metadata": {},
   "source": [
    "### Lasso Regression (L1 regularization)"
   ]
  },
  {
   "cell_type": "code",
   "execution_count": null,
   "id": "1ff781d7",
   "metadata": {},
   "outputs": [],
   "source": [
    "# Train Lasso Regression (L1 regularization)\n",
    "lasso = Lasso(alpha=alpha)\n",
    "lasso.fit(X_train, y_train)"
   ]
  },
  {
   "cell_type": "markdown",
   "id": "75f31c61",
   "metadata": {},
   "source": [
    "### Elastic Net (Combination of L1 and L2)"
   ]
  },
  {
   "cell_type": "code",
   "execution_count": null,
   "id": "22e426f3",
   "metadata": {},
   "outputs": [],
   "source": [
    "# Train Elastic Net (Combination of L1 and L2)\n",
    "elastic_net = ElasticNet(alpha=alpha, l1_ratio=0.5)  # l1_ratio=0.5 means equal mix of L1 & L2\n",
    "elastic_net.fit(X_train, y_train)"
   ]
  },
  {
   "cell_type": "code",
   "execution_count": null,
   "id": "ac21b0cc",
   "metadata": {},
   "outputs": [],
   "source": [
    "# Predictions\n",
    "y_pred_ols = ols.predict(X_test)\n",
    "y_pred_ridge = ridge.predict(X_test)\n",
    "y_pred_lasso = lasso.predict(X_test)\n",
    "y_pred_elastic = elastic_net.predict(X_test)"
   ]
  },
  {
   "cell_type": "code",
   "execution_count": null,
   "id": "47c24956",
   "metadata": {},
   "outputs": [],
   "source": [
    "# Evaluate models\n",
    "ols_mse = mean_squared_error(y_test, y_pred_ols)\n",
    "ridge_mse = mean_squared_error(y_test, y_pred_ridge)\n",
    "lasso_mse = mean_squared_error(y_test, y_pred_lasso)\n",
    "elastic_mse = mean_squared_error(y_test, y_pred_elastic)"
   ]
  },
  {
   "cell_type": "code",
   "execution_count": null,
   "id": "649da463",
   "metadata": {},
   "outputs": [],
   "source": [
    "# Print results\n",
    "# print(f\"OLS Coefficients: {ols.coef_}, MSE: {ols_mse:.2f}\")\n",
    "# print(f\"Ridge Coefficients: {ridge.coef_}, MSE: {ridge_mse:.2f}\")\n",
    "# print(f\"Lasso Coefficients: {lasso.coef_}, MSE: {lasso_mse:.2f}\")\n",
    "# print(f\"Elastic Net Coefficients: {elastic_net.coef_}, MSE: {elastic_mse:.2f}\")"
   ]
  },
  {
   "cell_type": "code",
   "execution_count": null,
   "id": "d824f8f2",
   "metadata": {},
   "outputs": [],
   "source": [
    "# Plot coefficient values\n",
    "plt.figure(figsize=(10, 5))\n",
    "plt.plot(ols.coef_, 'o-', label=\"OLS (No Regularization)\", color='black')\n",
    "plt.plot(ridge.coef_, 'o-', label=\"Ridge (L2)\")\n",
    "plt.plot(lasso.coef_, 's-', label=\"Lasso (L1)\")\n",
    "# plt.plot(elastic_net.coef_, 'x-', label=\"Elastic Net (L1+L2)\")\n",
    "plt.axhline(0, linestyle='--', color='gray', alpha=0.7)\n",
    "plt.legend()\n",
    "plt.xlabel(\"Feature Index\")\n",
    "plt.ylabel(\"Coefficient Value\")\n",
    "plt.title(\"Effect of Regularization on Coefficients\")\n",
    "plt.show()"
   ]
  },
  {
   "cell_type": "markdown",
   "id": "01500ab7",
   "metadata": {},
   "source": [
    "Conclusion:\n",
    "\n",
    "* Lasso forces some coefficients to zero (feature selection).\n",
    "* Ridge shrinks coefficients but doesn't set them to zero.\n",
    "* Elastic Net balance between the two."
   ]
  }
 ],
 "metadata": {
  "kernelspec": {
   "display_name": "Python 3 (ipykernel)",
   "language": "python",
   "name": "python3"
  },
  "language_info": {
   "codemirror_mode": {
    "name": "ipython",
    "version": 3
   },
   "file_extension": ".py",
   "mimetype": "text/x-python",
   "name": "python",
   "nbconvert_exporter": "python",
   "pygments_lexer": "ipython3",
   "version": "3.9.10"
  }
 },
 "nbformat": 4,
 "nbformat_minor": 5
}
