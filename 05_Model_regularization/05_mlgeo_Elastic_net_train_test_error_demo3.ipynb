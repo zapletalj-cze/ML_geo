{
 "cells": [
  {
   "cell_type": "markdown",
   "id": "eb8eb1fe",
   "metadata": {},
   "source": [
    "# ___\n",
    "\n",
    "# [ Machine Learning in Geosciences ]\n",
    "\n",
    "**Department of Applied Geoinformatics and Carthography, Charles University** \n",
    "\n",
    "*Lukas Brodsky lukas.brodsky@natur.cuni.cz*\n"
   ]
  },
  {
   "cell_type": "markdown",
   "id": "1c02b05d",
   "metadata": {},
   "source": [
    "# DEMO3: Effect of model regularization on training and test error"
   ]
  },
  {
   "cell_type": "code",
   "execution_count": null,
   "id": "7ee97060",
   "metadata": {},
   "outputs": [],
   "source": [
    "import numpy as np\n",
    "\n",
    "# Added in version 1.3.\n",
    "from sklearn.model_selection import ValidationCurveDisplay\n",
    "from sklearn.datasets import make_regression\n",
    "from sklearn.model_selection import train_test_split\n",
    "from sklearn.linear_model import ElasticNet"
   ]
  },
  {
   "cell_type": "code",
   "execution_count": null,
   "id": "ab0fbe70",
   "metadata": {},
   "outputs": [],
   "source": [
    "import sklearn\n",
    "print(sklearn.__version__)"
   ]
  },
  {
   "cell_type": "code",
   "execution_count": null,
   "id": "a3528914",
   "metadata": {},
   "outputs": [],
   "source": [
    "# Data \n",
    "n_samples_train, n_samples_test, n_features = 150, 300, 500\n",
    "X, y, true_coef = make_regression(\n",
    "    n_samples=n_samples_train + n_samples_test,\n",
    "    n_features=n_features,\n",
    "    n_informative=50,\n",
    "    shuffle=False,\n",
    "    noise=1.0,\n",
    "    coef=True,\n",
    "    random_state=42,\n",
    ")\n",
    "X_train, X_test, y_train, y_test = train_test_split(\n",
    "    X, y, train_size=n_samples_train, test_size=n_samples_test, shuffle=False\n",
    ")"
   ]
  },
  {
   "cell_type": "code",
   "execution_count": null,
   "id": "54fba296",
   "metadata": {},
   "outputs": [],
   "source": [
    "# Model\n",
    "enet = ElasticNet(l1_ratio=0.9, positive=True, max_iter=10_000)"
   ]
  },
  {
   "cell_type": "code",
   "execution_count": null,
   "id": "3070adca",
   "metadata": {},
   "outputs": [],
   "source": [
    "alphas = np.logspace(-5, 1, 60)\n",
    "disp = ValidationCurveDisplay.from_estimator(\n",
    "    enet,\n",
    "    X_train,\n",
    "    y_train,\n",
    "    param_name=\"alpha\",\n",
    "    param_range=alphas,\n",
    "    scoring=\"r2\",\n",
    "    n_jobs=2,\n",
    "    score_type=\"both\",\n",
    ")\n",
    "disp.ax_.set(\n",
    "    title=r\"Validation Curve for ElasticNet (R$^2$ Score)\",\n",
    "    xlabel=r\"alpha (regularization strength)\",\n",
    "    ylabel=\"R$^2$ Score\",\n",
    ")\n",
    "\n",
    "test_scores_mean = disp.test_scores.mean(axis=1)\n",
    "idx_avg_max_test_score = np.argmax(test_scores_mean)\n",
    "disp.ax_.vlines(\n",
    "    alphas[idx_avg_max_test_score],\n",
    "    disp.ax_.get_ylim()[0],\n",
    "    test_scores_mean[idx_avg_max_test_score],\n",
    "    color=\"k\",\n",
    "    linewidth=2,\n",
    "    linestyle=\"--\",\n",
    "    label=f\"Optimum on test\\n$\\\\alpha$ = {alphas[idx_avg_max_test_score]:.2e}\",\n",
    ")\n",
    "_ = disp.ax_.legend(loc=\"lower right\")"
   ]
  }
 ],
 "metadata": {
  "kernelspec": {
   "display_name": "Python 3 (ipykernel)",
   "language": "python",
   "name": "python3"
  },
  "language_info": {
   "codemirror_mode": {
    "name": "ipython",
    "version": 3
   },
   "file_extension": ".py",
   "mimetype": "text/x-python",
   "name": "python",
   "nbconvert_exporter": "python",
   "pygments_lexer": "ipython3",
   "version": "3.9.10"
  }
 },
 "nbformat": 4,
 "nbformat_minor": 5
}
