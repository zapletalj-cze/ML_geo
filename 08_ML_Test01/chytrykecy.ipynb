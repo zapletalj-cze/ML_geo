{
 "cells": [
  {
   "cell_type": "markdown",
   "id": "b408bf8f",
   "metadata": {},
   "source": [
    "#### "
   ]
  },
  {
   "cell_type": "markdown",
   "id": "33bb90cb",
   "metadata": {},
   "source": [
    "### RANDOM SAMPLING\n",
    "#### Definition\n",
    "Random sampling is a method where each member of the population has an equal chance of being selected. The selection is completely random, with no regard for any particular characteristic of the population.\n",
    "#### When to use:\n",
    "- When the population is relatively homogeneous (i.e., there are no significant subgroups or categories).\n",
    "- When you want to ensure that every member of the population has an equal chance of being selected and you do not need to account for specific groups.\n",
    "\n",
    "### STRATIFIED SAMPLING\n",
    "#### Definition\n",
    "Stratified sampling divides the population into distinct subgroups, or \"strata,\" based on certain characteristics (such as age, income, gender, etc.). A random sample is then drawn from each of these strata. The goal is to ensure that the sample reflects the overall population’s diversity by including each subgroup proportionally.\n",
    "#### When to use:\n",
    "- When the population is heterogeneous and consists of different subgroups that you want to represent proportionally in your sample.\n",
    "- When you want to improve the precision of your estimates by ensuring that each subgroup is adequately represented in the sample.\n",
    "#### Example:\n",
    "If you are conducting a survey about customer satisfaction and you know that there are distinct age groups, stratified sampling can help you ensure that each age group is well-represented in the sample."
   ]
  }
 ],
 "metadata": {
  "language_info": {
   "name": "python"
  }
 },
 "nbformat": 4,
 "nbformat_minor": 5
}
