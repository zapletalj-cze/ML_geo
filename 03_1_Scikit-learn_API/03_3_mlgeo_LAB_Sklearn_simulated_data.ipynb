{
 "cells": [
  {
   "cell_type": "markdown",
   "metadata": {},
   "source": [
    "___\n",
    "\n",
    "# Machine Learning in Geosciences ] \n",
    "Department of Applied Geoinformatics and Carthography, Charles University\n",
    "\n",
    "Lukas Brodsky lukas.brodsky@natur.cuni.cz\n"
   ]
  },
  {
   "cell_type": "markdown",
   "metadata": {},
   "source": [
    "## Example simulated data for different classification problems\n"
   ]
  },
  {
   "cell_type": "markdown",
   "metadata": {},
   "source": [
    "# Setup"
   ]
  },
  {
   "cell_type": "code",
   "execution_count": 2,
   "metadata": {},
   "outputs": [],
   "source": [
    "# Common imports for reading, visualizing\n",
    "import os\n",
    "import numpy as np\n",
    "import pandas as pd\n",
    "import matplotlib.pyplot as plt\n",
    "\n",
    "# data preparattion \n",
    "from sklearn.datasets import make_classification # make_blobs\n",
    "from sklearn.datasets import make_moons\n",
    "from sklearn.datasets import make_circles\n",
    "\n",
    "# to make this notebook's output stable across runs\n",
    "np.random.seed(42)\n",
    "\n",
    "# To plot pretty figures\n",
    "%matplotlib inline\n",
    "import matplotlib as mpl\n",
    "import matplotlib.pyplot as plt\n",
    "mpl.rc('axes', labelsize=14)\n",
    "mpl.rc('xtick', labelsize=12)\n",
    "mpl.rc('ytick', labelsize=12)"
   ]
  },
  {
   "cell_type": "markdown",
   "metadata": {},
   "source": [
    "## Get the simulated data\n"
   ]
  },
  {
   "cell_type": "markdown",
   "metadata": {},
   "source": [
    "### Linear / non-linear blobs classification problem"
   ]
  },
  {
   "cell_type": "markdown",
   "metadata": {},
   "source": [
    "Sklearn's method `make_classification` generate a random n-class classification problem.\n",
    "\n",
    "* creates **clusters of points** normally distributed (std=1); \n",
    "* about vertices of an **n_informative-dimensional hypercube** \n",
    "* with sides of length **2*class_sep**;     \n",
    "* it introduces **interdependence between these features** and adds various types of further **noise** to the data.\n",
    "\n",
    "* features are contained in the columns X[:, :n_informative + n_redundant + n_repeated] (without shuffling)\n",
    "\n",
    "* **shuffling** horizontally stacks features in the following order: n_informative features, n_redundant linear combinations of the informative features, n_repeated duplicates\n",
    "* remaining features are filled with random noise \n",
    "\n",
    "\n",
    "`sklearn.datasets.make_classification(n_samples=100, n_features=20, n_informative=2, n_redundant=2, n_repeated=0, n_classes=2, n_clusters_per_class=2, shuffle=True, random_state=None)`"
   ]
  },
  {
   "cell_type": "markdown",
   "metadata": {},
   "source": [
    "Similarly `make_blobs` generates isotropic Gaussian blobs for clustering."
   ]
  },
  {
   "cell_type": "markdown",
   "metadata": {},
   "source": [
    "### Non-linear moons shape classification problem"
   ]
  },
  {
   "cell_type": "markdown",
   "metadata": {},
   "source": [
    "The `make_moons()` function is for binary classification and will generate a swirl pattern, or two moons. One can control how noisy the moon shapes are and the number of samples to generate. \n",
    "\n",
    "This test problem is suitable **for algorithms that are capable of learning nonlinear class boundaries**."
   ]
  },
  {
   "cell_type": "markdown",
   "metadata": {},
   "source": [
    "### Non-linear circles shape classification problem"
   ]
  },
  {
   "cell_type": "markdown",
   "metadata": {},
   "source": [
    "The `make_circles()` function generates a binary classification problem with datasets that fall into concentric circles. Again, as with the moons test problem, you can control the amount of noise in the shapes. \n",
    "\n",
    "This test problem is **suitable for algorithms that can learn complex non-linear manifolds**.\n"
   ]
  },
  {
   "cell_type": "markdown",
   "metadata": {},
   "source": [
    "### Data set 1"
   ]
  },
  {
   "cell_type": "code",
   "execution_count": 3,
   "metadata": {},
   "outputs": [],
   "source": [
    "# create synthetic data set 1\n",
    "X1, y1 = make_classification(n_samples = 1000, n_features = 10, n_informative = 5, n_redundant = 5, \n",
    "                          class_sep = 3, n_clusters_per_class=1, \n",
    "                          random_state = 42, shuffle = True) "
   ]
  },
  {
   "cell_type": "code",
   "execution_count": 4,
   "metadata": {},
   "outputs": [
    {
     "data": {
      "text/plain": [
       "[<matplotlib.lines.Line2D at 0x10ec1cfa0>]"
      ]
     },
     "execution_count": 4,
     "metadata": {},
     "output_type": "execute_result"
    },
    {
     "data": {
      "image/png": "[encoded data removed]",
      "text/plain": [
       "<Figure size 432x288 with 1 Axes>"
      ]
     },
     "metadata": {
      "needs_background": "light"
     },
     "output_type": "display_data"
    }
   ],
   "source": [
    "plt.plot(X1[(y1==0),0], X1[(y1==0),1], 'r.')\n",
    "plt.plot(X1[(y1==1),0], X1[(y1==1),1], 'b.')"
   ]
  },
  {
   "cell_type": "code",
   "execution_count": 5,
   "metadata": {},
   "outputs": [],
   "source": [
    "# Numpy array to pandas dataframe\n",
    "features = [f\"Feature {ii+1}\" for ii in range(X1.shape[1])]\n",
    "X1 = pd.DataFrame(X1, columns = features)\n",
    "y1 = pd.DataFrame(y1, columns = [\"Target\"])"
   ]
  },
  {
   "cell_type": "code",
   "execution_count": 6,
   "metadata": {},
   "outputs": [
    {
     "data": {
      "text/html": [
       "<div>\n",
       "<style scoped>\n",
       "    .dataframe tbody tr th:only-of-type {\n",
       "        vertical-align: middle;\n",
       "    }\n",
       "\n",
       "    .dataframe tbody tr th {\n",
       "        vertical-align: top;\n",
       "    }\n",
       "\n",
       "    .dataframe thead th {\n",
       "        text-align: right;\n",
       "    }\n",
       "</style>\n",
       "<table border=\"1\" class=\"dataframe\">\n",
       "  <thead>\n",
       "    <tr style=\"text-align: right;\">\n",
       "      <th></th>\n",
       "      <th>Feature 1</th>\n",
       "      <th>Feature 2</th>\n",
       "      <th>Feature 3</th>\n",
       "      <th>Feature 4</th>\n",
       "      <th>Feature 5</th>\n",
       "      <th>Feature 6</th>\n",
       "      <th>Feature 7</th>\n",
       "      <th>Feature 8</th>\n",
       "      <th>Feature 9</th>\n",
       "      <th>Feature 10</th>\n",
       "    </tr>\n",
       "  </thead>\n",
       "  <tbody>\n",
       "    <tr>\n",
       "      <th>0</th>\n",
       "      <td>1.032021</td>\n",
       "      <td>3.825343</td>\n",
       "      <td>-0.227613</td>\n",
       "      <td>5.296276</td>\n",
       "      <td>-1.828121</td>\n",
       "      <td>2.429859</td>\n",
       "      <td>5.410454</td>\n",
       "      <td>2.244457</td>\n",
       "      <td>3.083645</td>\n",
       "      <td>1.466595</td>\n",
       "    </tr>\n",
       "    <tr>\n",
       "      <th>1</th>\n",
       "      <td>-1.268441</td>\n",
       "      <td>-1.187436</td>\n",
       "      <td>0.515388</td>\n",
       "      <td>2.935066</td>\n",
       "      <td>3.321370</td>\n",
       "      <td>4.135963</td>\n",
       "      <td>-1.116440</td>\n",
       "      <td>5.458337</td>\n",
       "      <td>4.901847</td>\n",
       "      <td>1.271195</td>\n",
       "    </tr>\n",
       "    <tr>\n",
       "      <th>2</th>\n",
       "      <td>-3.910142</td>\n",
       "      <td>-2.385552</td>\n",
       "      <td>1.672610</td>\n",
       "      <td>0.576525</td>\n",
       "      <td>2.190523</td>\n",
       "      <td>-0.353831</td>\n",
       "      <td>-5.358523</td>\n",
       "      <td>5.774033</td>\n",
       "      <td>5.734368</td>\n",
       "      <td>-0.284777</td>\n",
       "    </tr>\n",
       "    <tr>\n",
       "      <th>3</th>\n",
       "      <td>-0.082904</td>\n",
       "      <td>2.916196</td>\n",
       "      <td>-0.378705</td>\n",
       "      <td>4.393410</td>\n",
       "      <td>-1.646777</td>\n",
       "      <td>0.221155</td>\n",
       "      <td>3.615335</td>\n",
       "      <td>1.781697</td>\n",
       "      <td>3.841278</td>\n",
       "      <td>-0.138578</td>\n",
       "    </tr>\n",
       "    <tr>\n",
       "      <th>4</th>\n",
       "      <td>-4.530333</td>\n",
       "      <td>-1.825186</td>\n",
       "      <td>2.468038</td>\n",
       "      <td>1.498802</td>\n",
       "      <td>2.384220</td>\n",
       "      <td>1.280227</td>\n",
       "      <td>-4.746628</td>\n",
       "      <td>4.679319</td>\n",
       "      <td>3.433927</td>\n",
       "      <td>0.035335</td>\n",
       "    </tr>\n",
       "  </tbody>\n",
       "</table>\n",
       "</div>"
      ],
      "text/plain": [
       "   Feature 1  Feature 2  Feature 3  Feature 4  Feature 5  Feature 6  \\\n",
       "0   1.032021   3.825343  -0.227613   5.296276  -1.828121   2.429859   \n",
       "1  -1.268441  -1.187436   0.515388   2.935066   3.321370   4.135963   \n",
       "2  -3.910142  -2.385552   1.672610   0.576525   2.190523  -0.353831   \n",
       "3  -0.082904   2.916196  -0.378705   4.393410  -1.646777   0.221155   \n",
       "4  -4.530333  -1.825186   2.468038   1.498802   2.384220   1.280227   \n",
       "\n",
       "   Feature 7  Feature 8  Feature 9  Feature 10  \n",
       "0   5.410454   2.244457   3.083645    1.466595  \n",
       "1  -1.116440   5.458337   4.901847    1.271195  \n",
       "2  -5.358523   5.774033   5.734368   -0.284777  \n",
       "3   3.615335   1.781697   3.841278   -0.138578  \n",
       "4  -4.746628   4.679319   3.433927    0.035335  "
      ]
     },
     "execution_count": 6,
     "metadata": {},
     "output_type": "execute_result"
    }
   ],
   "source": [
    "X1.head()"
   ]
  },
  {
   "cell_type": "markdown",
   "metadata": {},
   "source": [
    "### Data set 2"
   ]
  },
  {
   "cell_type": "code",
   "execution_count": 7,
   "metadata": {},
   "outputs": [],
   "source": [
    "# create synthetic data set 1\n",
    "X2, y2 = make_classification(n_samples = 1000, n_features = 10, n_informative = 5, n_redundant = 5, \n",
    "                          class_sep = 1, n_clusters_per_class=1, \n",
    "                          random_state = 42, shuffle = True) "
   ]
  },
  {
   "cell_type": "code",
   "execution_count": 8,
   "metadata": {},
   "outputs": [
    {
     "data": {
      "text/plain": [
       "[<matplotlib.lines.Line2D at 0x12da39580>]"
      ]
     },
     "execution_count": 8,
     "metadata": {},
     "output_type": "execute_result"
    },
    {
     "data": {
      "image/png": "[encoded data removed]",
      "text/plain": [
       "<Figure size 432x288 with 1 Axes>"
      ]
     },
     "metadata": {
      "needs_background": "light"
     },
     "output_type": "display_data"
    }
   ],
   "source": [
    "plt.plot(X2[(y2==0),0], X2[(y2==0),1], 'r.')\n",
    "plt.plot(X2[(y2==1),0], X2[(y2==1),1], 'b.')"
   ]
  },
  {
   "cell_type": "code",
   "execution_count": 9,
   "metadata": {},
   "outputs": [],
   "source": [
    "# Numpy array to pandas dataframe\n",
    "features = [f\"Feature {ii+1}\" for ii in range(X2.shape[1])]\n",
    "X2 = pd.DataFrame(X2, columns = features)\n",
    "y2 = pd.DataFrame(y2, columns = [\"Target\"])"
   ]
  },
  {
   "cell_type": "code",
   "execution_count": 10,
   "metadata": {},
   "outputs": [
    {
     "data": {
      "text/html": [
       "<div>\n",
       "<style scoped>\n",
       "    .dataframe tbody tr th:only-of-type {\n",
       "        vertical-align: middle;\n",
       "    }\n",
       "\n",
       "    .dataframe tbody tr th {\n",
       "        vertical-align: top;\n",
       "    }\n",
       "\n",
       "    .dataframe thead th {\n",
       "        text-align: right;\n",
       "    }\n",
       "</style>\n",
       "<table border=\"1\" class=\"dataframe\">\n",
       "  <thead>\n",
       "    <tr style=\"text-align: right;\">\n",
       "      <th></th>\n",
       "      <th>Feature 1</th>\n",
       "      <th>Feature 2</th>\n",
       "      <th>Feature 3</th>\n",
       "      <th>Feature 4</th>\n",
       "      <th>Feature 5</th>\n",
       "      <th>Feature 6</th>\n",
       "      <th>Feature 7</th>\n",
       "      <th>Feature 8</th>\n",
       "      <th>Feature 9</th>\n",
       "      <th>Feature 10</th>\n",
       "    </tr>\n",
       "  </thead>\n",
       "  <tbody>\n",
       "    <tr>\n",
       "      <th>0</th>\n",
       "      <td>-0.967979</td>\n",
       "      <td>1.395398</td>\n",
       "      <td>0.125853</td>\n",
       "      <td>3.296276</td>\n",
       "      <td>0.171879</td>\n",
       "      <td>1.367594</td>\n",
       "      <td>1.860681</td>\n",
       "      <td>0.244457</td>\n",
       "      <td>1.083645</td>\n",
       "      <td>-0.549696</td>\n",
       "    </tr>\n",
       "    <tr>\n",
       "      <th>1</th>\n",
       "      <td>0.731559</td>\n",
       "      <td>-0.484200</td>\n",
       "      <td>-0.153285</td>\n",
       "      <td>0.935066</td>\n",
       "      <td>1.321370</td>\n",
       "      <td>2.355913</td>\n",
       "      <td>0.096461</td>\n",
       "      <td>3.458337</td>\n",
       "      <td>2.901847</td>\n",
       "      <td>1.628144</td>\n",
       "    </tr>\n",
       "    <tr>\n",
       "      <th>2</th>\n",
       "      <td>-1.910142</td>\n",
       "      <td>-1.682316</td>\n",
       "      <td>1.003937</td>\n",
       "      <td>-1.423475</td>\n",
       "      <td>0.190523</td>\n",
       "      <td>-2.133881</td>\n",
       "      <td>-4.145622</td>\n",
       "      <td>3.774033</td>\n",
       "      <td>3.734368</td>\n",
       "      <td>0.072171</td>\n",
       "    </tr>\n",
       "    <tr>\n",
       "      <th>3</th>\n",
       "      <td>-2.082904</td>\n",
       "      <td>0.486251</td>\n",
       "      <td>-0.025239</td>\n",
       "      <td>2.393410</td>\n",
       "      <td>0.353223</td>\n",
       "      <td>-0.841111</td>\n",
       "      <td>0.065563</td>\n",
       "      <td>-0.218303</td>\n",
       "      <td>1.841278</td>\n",
       "      <td>-2.154869</td>\n",
       "    </tr>\n",
       "    <tr>\n",
       "      <th>4</th>\n",
       "      <td>-2.530333</td>\n",
       "      <td>-1.121950</td>\n",
       "      <td>1.799365</td>\n",
       "      <td>-0.501198</td>\n",
       "      <td>0.384220</td>\n",
       "      <td>-0.499823</td>\n",
       "      <td>-3.533727</td>\n",
       "      <td>2.679319</td>\n",
       "      <td>1.433927</td>\n",
       "      <td>0.392283</td>\n",
       "    </tr>\n",
       "  </tbody>\n",
       "</table>\n",
       "</div>"
      ],
      "text/plain": [
       "   Feature 1  Feature 2  Feature 3  Feature 4  Feature 5  Feature 6  \\\n",
       "0  -0.967979   1.395398   0.125853   3.296276   0.171879   1.367594   \n",
       "1   0.731559  -0.484200  -0.153285   0.935066   1.321370   2.355913   \n",
       "2  -1.910142  -1.682316   1.003937  -1.423475   0.190523  -2.133881   \n",
       "3  -2.082904   0.486251  -0.025239   2.393410   0.353223  -0.841111   \n",
       "4  -2.530333  -1.121950   1.799365  -0.501198   0.384220  -0.499823   \n",
       "\n",
       "   Feature 7  Feature 8  Feature 9  Feature 10  \n",
       "0   1.860681   0.244457   1.083645   -0.549696  \n",
       "1   0.096461   3.458337   2.901847    1.628144  \n",
       "2  -4.145622   3.774033   3.734368    0.072171  \n",
       "3   0.065563  -0.218303   1.841278   -2.154869  \n",
       "4  -3.533727   2.679319   1.433927    0.392283  "
      ]
     },
     "execution_count": 10,
     "metadata": {},
     "output_type": "execute_result"
    }
   ],
   "source": [
    "X2.head()"
   ]
  },
  {
   "cell_type": "markdown",
   "metadata": {},
   "source": [
    "### Data set 3"
   ]
  },
  {
   "cell_type": "code",
   "execution_count": 11,
   "metadata": {},
   "outputs": [],
   "source": [
    "X3, y3 = make_moons(n_samples=1000,  noise=0.1)\n"
   ]
  },
  {
   "cell_type": "code",
   "execution_count": 12,
   "metadata": {},
   "outputs": [
    {
     "data": {
      "text/plain": [
       "[<matplotlib.lines.Line2D at 0x12daa5c70>]"
      ]
     },
     "execution_count": 12,
     "metadata": {},
     "output_type": "execute_result"
    },
    {
     "data": {
      "image/png": "[encoded data removed]",
      "text/plain": [
       "<Figure size 432x288 with 1 Axes>"
      ]
     },
     "metadata": {
      "needs_background": "light"
     },
     "output_type": "display_data"
    }
   ],
   "source": [
    "plt.plot(X3[(y3==0),0], X3[(y3==0),1], 'r.')\n",
    "plt.plot(X3[(y3==1),0], X3[(y3==1),1], 'b.')"
   ]
  },
  {
   "cell_type": "code",
   "execution_count": 13,
   "metadata": {},
   "outputs": [],
   "source": [
    "# Numpy array to pandas dataframe\n",
    "features = [f\"Feature {ii+1}\" for ii in range(X3.shape[1])]\n",
    "X3 = pd.DataFrame(X3, columns = features)\n",
    "y3 = pd.DataFrame(y3, columns = [\"Target\"])"
   ]
  },
  {
   "cell_type": "code",
   "execution_count": 14,
   "metadata": {},
   "outputs": [
    {
     "data": {
      "text/html": [
       "<div>\n",
       "<style scoped>\n",
       "    .dataframe tbody tr th:only-of-type {\n",
       "        vertical-align: middle;\n",
       "    }\n",
       "\n",
       "    .dataframe tbody tr th {\n",
       "        vertical-align: top;\n",
       "    }\n",
       "\n",
       "    .dataframe thead th {\n",
       "        text-align: right;\n",
       "    }\n",
       "</style>\n",
       "<table border=\"1\" class=\"dataframe\">\n",
       "  <thead>\n",
       "    <tr style=\"text-align: right;\">\n",
       "      <th></th>\n",
       "      <th>Feature 1</th>\n",
       "      <th>Feature 2</th>\n",
       "    </tr>\n",
       "  </thead>\n",
       "  <tbody>\n",
       "    <tr>\n",
       "      <th>0</th>\n",
       "      <td>-0.051470</td>\n",
       "      <td>0.444199</td>\n",
       "    </tr>\n",
       "    <tr>\n",
       "      <th>1</th>\n",
       "      <td>1.032017</td>\n",
       "      <td>-0.419741</td>\n",
       "    </tr>\n",
       "    <tr>\n",
       "      <th>2</th>\n",
       "      <td>0.867892</td>\n",
       "      <td>-0.254827</td>\n",
       "    </tr>\n",
       "    <tr>\n",
       "      <th>3</th>\n",
       "      <td>0.288851</td>\n",
       "      <td>-0.448669</td>\n",
       "    </tr>\n",
       "    <tr>\n",
       "      <th>4</th>\n",
       "      <td>-0.833439</td>\n",
       "      <td>0.535057</td>\n",
       "    </tr>\n",
       "  </tbody>\n",
       "</table>\n",
       "</div>"
      ],
      "text/plain": [
       "   Feature 1  Feature 2\n",
       "0  -0.051470   0.444199\n",
       "1   1.032017  -0.419741\n",
       "2   0.867892  -0.254827\n",
       "3   0.288851  -0.448669\n",
       "4  -0.833439   0.535057"
      ]
     },
     "execution_count": 14,
     "metadata": {},
     "output_type": "execute_result"
    }
   ],
   "source": [
    "X3.head()"
   ]
  },
  {
   "cell_type": "markdown",
   "metadata": {},
   "source": [
    "### Data set 4"
   ]
  },
  {
   "cell_type": "code",
   "execution_count": 15,
   "metadata": {},
   "outputs": [],
   "source": [
    "X4, y4 = make_moons(n_samples=1000,  noise=0.3)"
   ]
  },
  {
   "cell_type": "code",
   "execution_count": 16,
   "metadata": {},
   "outputs": [
    {
     "data": {
      "text/plain": [
       "[<matplotlib.lines.Line2D at 0x12db261f0>]"
      ]
     },
     "execution_count": 16,
     "metadata": {},
     "output_type": "execute_result"
    },
    {
     "data": {
      "image/png": "[encoded data removed]",
      "text/plain": [
       "<Figure size 432x288 with 1 Axes>"
      ]
     },
     "metadata": {
      "needs_background": "light"
     },
     "output_type": "display_data"
    }
   ],
   "source": [
    "plt.plot(X4[(y4==0),0], X4[(y4==0),1], 'r.')\n",
    "plt.plot(X4[(y4==1),0], X4[(y4==1),1], 'b.')"
   ]
  },
  {
   "cell_type": "code",
   "execution_count": 17,
   "metadata": {},
   "outputs": [],
   "source": [
    "# Numpy array to pandas dataframe\n",
    "features = [f\"Feature {ii+1}\" for ii in range(X4.shape[1])]\n",
    "X4 = pd.DataFrame(X4, columns = features)\n",
    "y4 = pd.DataFrame(y4, columns = [\"Target\"])"
   ]
  },
  {
   "cell_type": "code",
   "execution_count": 18,
   "metadata": {},
   "outputs": [
    {
     "data": {
      "text/html": [
       "<div>\n",
       "<style scoped>\n",
       "    .dataframe tbody tr th:only-of-type {\n",
       "        vertical-align: middle;\n",
       "    }\n",
       "\n",
       "    .dataframe tbody tr th {\n",
       "        vertical-align: top;\n",
       "    }\n",
       "\n",
       "    .dataframe thead th {\n",
       "        text-align: right;\n",
       "    }\n",
       "</style>\n",
       "<table border=\"1\" class=\"dataframe\">\n",
       "  <thead>\n",
       "    <tr style=\"text-align: right;\">\n",
       "      <th></th>\n",
       "      <th>Feature 1</th>\n",
       "      <th>Feature 2</th>\n",
       "    </tr>\n",
       "  </thead>\n",
       "  <tbody>\n",
       "    <tr>\n",
       "      <th>0</th>\n",
       "      <td>1.775367</td>\n",
       "      <td>-0.076010</td>\n",
       "    </tr>\n",
       "    <tr>\n",
       "      <th>1</th>\n",
       "      <td>1.122249</td>\n",
       "      <td>0.327149</td>\n",
       "    </tr>\n",
       "    <tr>\n",
       "      <th>2</th>\n",
       "      <td>1.439911</td>\n",
       "      <td>-0.382116</td>\n",
       "    </tr>\n",
       "    <tr>\n",
       "      <th>3</th>\n",
       "      <td>1.706793</td>\n",
       "      <td>0.860818</td>\n",
       "    </tr>\n",
       "    <tr>\n",
       "      <th>4</th>\n",
       "      <td>1.927498</td>\n",
       "      <td>0.237415</td>\n",
       "    </tr>\n",
       "  </tbody>\n",
       "</table>\n",
       "</div>"
      ],
      "text/plain": [
       "   Feature 1  Feature 2\n",
       "0   1.775367  -0.076010\n",
       "1   1.122249   0.327149\n",
       "2   1.439911  -0.382116\n",
       "3   1.706793   0.860818\n",
       "4   1.927498   0.237415"
      ]
     },
     "execution_count": 18,
     "metadata": {},
     "output_type": "execute_result"
    }
   ],
   "source": [
    "X4.head()"
   ]
  },
  {
   "cell_type": "markdown",
   "metadata": {},
   "source": [
    "### Data set 5"
   ]
  },
  {
   "cell_type": "code",
   "execution_count": 19,
   "metadata": {},
   "outputs": [],
   "source": [
    "X5, y5 = make_circles(n_samples=1000, noise=0.09)\n"
   ]
  },
  {
   "cell_type": "code",
   "execution_count": 20,
   "metadata": {},
   "outputs": [
    {
     "data": {
      "text/plain": [
       "[<matplotlib.lines.Line2D at 0x12db83820>]"
      ]
     },
     "execution_count": 20,
     "metadata": {},
     "output_type": "execute_result"
    },
    {
     "data": {
      "image/png": "[encoded data removed]",
      "text/plain": [
       "<Figure size 432x288 with 1 Axes>"
      ]
     },
     "metadata": {
      "needs_background": "light"
     },
     "output_type": "display_data"
    }
   ],
   "source": [
    "plt.plot(X5[(y5==0),0], X5[(y5==0),1], 'r.')\n",
    "plt.plot(X5[(y5==1),0], X5[(y5==1),1], 'b.')"
   ]
  }
 ],
 "metadata": {
  "kernelspec": {
   "display_name": "Python 3 (ipykernel)",
   "language": "python",
   "name": "python3"
  },
  "language_info": {
   "codemirror_mode": {
    "name": "ipython",
    "version": 3
   },
   "file_extension": ".py",
   "mimetype": "text/x-python",
   "name": "python",
   "nbconvert_exporter": "python",
   "pygments_lexer": "ipython3",
   "version": "3.9.10"
  },
  "nav_menu": {
   "height": "252px",
   "width": "333px"
  },
  "toc": {
   "navigate_menu": true,
   "number_sections": true,
   "sideBar": true,
   "threshold": 6,
   "toc_cell": false,
   "toc_section_display": "block",
   "toc_window_display": false
  }
 },
 "nbformat": 4,
 "nbformat_minor": 1
}
