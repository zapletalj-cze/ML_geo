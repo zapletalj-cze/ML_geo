{
 "cells": [
  {
   "cell_type": "markdown",
   "metadata": {},
   "source": [
    "# ___\n",
    "\n",
    "# [ Machine Learning in Geosciences ]\n",
    "\n",
    "**Department of Applied Geoinformatics and Carthography, Charles University** \n",
    "\n",
    "*Lukas Brodsky lukas.brodsky@natur.cuni.cz*\n",
    "\n"
   ]
  },
  {
   "cell_type": "markdown",
   "metadata": {},
   "source": [
    "## Sklearn API: Linear and Polynomial regression models exercises\n",
    "\n",
    "**Task**: fit Sklearn models to the simulated sample data. Evaluate goodnes of fit by quantitative metrics. Plot the input training and testing data together with the fitted model and the underlying function. \n",
    "\n",
    "* Exercise 1: Linear regression \n",
    "\n",
    "* Exercise 2: Non-linear (polynomial) regression \n",
    "\n",
    "\n",
    "\"Workflow\": \n",
    "\n",
    "1/ import needed sklearn methods:  \n",
    "    `LinearRegression` from `sklearn.linear_model`\n",
    "    `PolynomialFeatures` from `sklearn.preprocessing`\n",
    "    `mean_squared_error` from `sklearn.metrics` \n",
    "\n",
    "and Matplotlib package (e.g. as plt) \n",
    "\n",
    "2/ Plot data \n",
    "\n",
    "3/ Train regression model \n",
    "\n",
    "4/ Evaluate model on training and testing data sets, MSE (use prediction method) \n",
    "\n",
    "5/ Plot the resulting model with samples scatter plot, add plot of underlying function \n",
    "\n",
    "6/ Evalaute the result "
   ]
  },
  {
   "cell_type": "code",
   "execution_count": 103,
   "metadata": {},
   "outputs": [],
   "source": [
    "# imports \n",
    "import numpy as np\n",
    "np.random.seed(0)\n",
    "\n",
    "# Scikit-learn\n",
    "pass \n",
    "\n",
    "# Plotting \n",
    "pass "
   ]
  },
  {
   "cell_type": "markdown",
   "metadata": {},
   "source": [
    "### **Exercise 1:** Linear regression in Sklearn\n",
    "* Use **`LinearRegression`** model from `sklearn.linear_model`\n"
   ]
  },
  {
   "cell_type": "code",
   "execution_count": 104,
   "metadata": {},
   "outputs": [],
   "source": [
    " # DATA"
   ]
  },
  {
   "cell_type": "code",
   "execution_count": 105,
   "metadata": {},
   "outputs": [],
   "source": [
    "# Process function \n",
    "def fun(x, noise):\n",
    "    return .6 *  x + (x ** .8) * noise"
   ]
  },
  {
   "cell_type": "code",
   "execution_count": 46,
   "metadata": {},
   "outputs": [],
   "source": [
    "# Sample training data (simulated) \n",
    "n_samples = 20\n",
    "noise_factor = 0.9\n",
    "# features\n",
    "X_train = np.sort(np.random.rand(n_samples))\n",
    "\n",
    "# targets (references) \n",
    "noise_train = np.random.rand(n_samples) * noise_factor\n",
    "y_train = fun(X_train, noise_train) \n",
    "X_train = X_train.reshape(-1, 1)\n",
    "\n",
    "# Sample testing data from the same underlying function \n",
    "n_samples_test = 20\n",
    "# testin gfeatures\n",
    "X_test = np.sort(np.random.rand(n_samples_test))\n",
    "\n",
    "# testing targets \n",
    "noise_test = np.random.rand(n_samples_test) * noise_factor\n",
    "y_test = fun(X_test, noise_test)\n",
    "X_test = X_test.reshape(-1, 1)"
   ]
  },
  {
   "cell_type": "code",
   "execution_count": 106,
   "metadata": {
    "scrolled": true
   },
   "outputs": [],
   "source": [
    "# Plot scatterplots (train and test data with different color), add legend and mark axess\n",
    "pass"
   ]
  },
  {
   "cell_type": "markdown",
   "metadata": {},
   "source": [
    "### Train linear regression model"
   ]
  },
  {
   "cell_type": "code",
   "execution_count": 107,
   "metadata": {},
   "outputs": [],
   "source": [
    "# instantiate model\n",
    "pass \n",
    "# fit model on tarining data \n",
    "pass "
   ]
  },
  {
   "cell_type": "code",
   "execution_count": 109,
   "metadata": {},
   "outputs": [],
   "source": [
    "# You can check the model parameters \n",
    "# model.fit_intercept\n",
    "# model.coef_"
   ]
  },
  {
   "cell_type": "code",
   "execution_count": 110,
   "metadata": {},
   "outputs": [],
   "source": [
    "# Evaluate model MSE on training data, use model prediction, print the result\n",
    "pass "
   ]
  },
  {
   "cell_type": "code",
   "execution_count": 111,
   "metadata": {},
   "outputs": [],
   "source": [
    "# Evaluate model on testing data, use model prediction, print the result\n",
    "pass "
   ]
  },
  {
   "cell_type": "code",
   "execution_count": 115,
   "metadata": {},
   "outputs": [],
   "source": [
    "# Plot the linear model with samples scatter plot, add underlying function (X_fun and y_fun)\n",
    "\n",
    "X_fun = np.linspace(0, 1, 100)\n",
    "noise_fun = np.ones(100) / 2. * noise_factor\n",
    "y_fun = fun(X_fun, noise_fun)\n",
    "# plt.plot(X_fun, y_fun, color=\"k\",  label=\"Underlying function\")\n",
    "\n",
    "pass "
   ]
  },
  {
   "cell_type": "markdown",
   "metadata": {},
   "source": [
    "### **Exercise 2:** Non-linear (polynomial) regression in Sklearn\n",
    "\n",
    "* Use **`LinearRegression`** model from `sklearn.linear_model`. \n",
    "* Transform the input features by **`PolynomialFeatures`** from `sklearn.preprocessing`. Use `fit_transform` method. \n"
   ]
  },
  {
   "cell_type": "code",
   "execution_count": 116,
   "metadata": {},
   "outputs": [],
   "source": [
    "# Sample data\n",
    "def fun(x, noise):\n",
    "    return .6 * np.sin(x*6) + x + (x ** .8) * noise"
   ]
  },
  {
   "cell_type": "code",
   "execution_count": 117,
   "metadata": {},
   "outputs": [],
   "source": [
    "# Sample training data (simulated) \n",
    "n_samples = 20\n",
    "noise_factor = 0.7\n",
    "# features\n",
    "X_train = np.sort(np.random.rand(n_samples))\n",
    "\n",
    "# targets (references) \n",
    "noise_train = np.random.rand(n_samples) * noise_factor\n",
    "y_train = fun(X_train, noise_train) \n",
    "X_train = X_train.reshape(-1, 1)\n",
    "\n",
    "# Sample testing data from the same underlying function \n",
    "n_samples_test = 20\n",
    "# testin gfeatures\n",
    "X_test = np.sort(np.random.rand(n_samples_test))\n",
    "\n",
    "# testing targets \n",
    "noise_test = np.random.rand(n_samples_test) * noise_factor\n",
    "y_test = fun(X_test, noise_test)\n",
    "X_test = X_test.reshape(-1, 1)"
   ]
  },
  {
   "cell_type": "code",
   "execution_count": 118,
   "metadata": {},
   "outputs": [],
   "source": [
    "# Plot scatterplot (train and test data with different color), add legend \n",
    "pass "
   ]
  },
  {
   "cell_type": "code",
   "execution_count": 119,
   "metadata": {},
   "outputs": [],
   "source": [
    "# Transform input data to polynomials\n",
    "degree = 10\n",
    "# instantiate\n",
    "pass \n",
    "# fit_transform\n",
    "pass "
   ]
  },
  {
   "cell_type": "code",
   "execution_count": 120,
   "metadata": {},
   "outputs": [],
   "source": [
    "# instantiate linear regression model \n",
    "pass \n",
    "# fit the model \n",
    "pass "
   ]
  },
  {
   "cell_type": "code",
   "execution_count": 121,
   "metadata": {},
   "outputs": [],
   "source": [
    "# Evaluate: predict (use the polynomial transform data!) for model evaluation\n",
    "pass"
   ]
  },
  {
   "cell_type": "code",
   "execution_count": 122,
   "metadata": {},
   "outputs": [],
   "source": [
    "# Evaluate the model on test subset\n",
    "pass"
   ]
  },
  {
   "cell_type": "code",
   "execution_count": 123,
   "metadata": {},
   "outputs": [],
   "source": [
    "# Plot the input data together with the model and underlying function \n",
    "\n",
    "# Model data\n",
    "X_plot = np.linspace(0, 1, 100)\n",
    "plot_polynomial_features = poly.fit_transform(X_plot.reshape(-1, 1))\n",
    "y_plot = linear_regression.predict(plot_polynomial_features)\n",
    "\n",
    "# Underlying function data\n",
    "X_fun = np.linspace(0, 1, 100)\n",
    "noise_fun = np.ones(100) / 2. * noise_factor\n",
    "y_fun = fun(X_fun, noise_fun)\n",
    "\n",
    "pass "
   ]
  },
  {
   "cell_type": "code",
   "execution_count": null,
   "metadata": {},
   "outputs": [],
   "source": []
  }
 ],
 "metadata": {
  "kernelspec": {
   "display_name": "Python 3 (ipykernel)",
   "language": "python",
   "name": "python3"
  },
  "language_info": {
   "codemirror_mode": {
    "name": "ipython",
    "version": 3
   },
   "file_extension": ".py",
   "mimetype": "text/x-python",
   "name": "python",
   "nbconvert_exporter": "python",
   "pygments_lexer": "ipython3",
   "version": "3.9.10"
  }
 },
 "nbformat": 4,
 "nbformat_minor": 1
}
